{
 "cells": [
  {
   "cell_type": "markdown",
   "metadata": {},
   "source": [
    "# scripts pythons en réponse de l'exercice"
   ]
  },
  {
   "cell_type": "markdown",
   "metadata": {},
   "source": [
    "## Lister les 10 derniers livres par leur date de publication"
   ]
  },
  {
   "cell_type": "code",
   "execution_count": null,
   "metadata": {},
   "outputs": [],
   "source": [
    "python test_cmd3.py get books 10"
   ]
  },
  {
   "cell_type": "code",
   "execution_count": null,
   "metadata": {},
   "outputs": [],
   "source": [
    "python library.py --books 10"
   ]
  },
  {
   "cell_type": "markdown",
   "metadata": {},
   "source": [
    "Sans les valeurs par default :"
   ]
  },
  {
   "cell_type": "code",
   "execution_count": null,
   "metadata": {},
   "outputs": [],
   "source": [
    "python library.py -g -b -10 -d"
   ]
  },
  {
   "cell_type": "code",
   "execution_count": null,
   "metadata": {},
   "outputs": [],
   "source": [
    "python library.py -get books 10 des"
   ]
  },
  {
   "cell_type": "markdown",
   "metadata": {},
   "source": [
    "## Lister le livre écrit par l’auteur « Dr. Kaitlyn Ratke »"
   ]
  },
  {
   "cell_type": "code",
   "execution_count": null,
   "metadata": {},
   "outputs": [],
   "source": [
    "python livres_auteur.py \"Dr. Kaitlyn Ratke\""
   ]
  },
  {
   "cell_type": "code",
   "execution_count": null,
   "metadata": {},
   "outputs": [],
   "source": [
    "python library.py -a \"Dr. Kaitlyn Ratke\""
   ]
  },
  {
   "cell_type": "code",
   "execution_count": null,
   "metadata": {},
   "outputs": [],
   "source": [
    "python library.py -g -a \"Dr. Kaitlyn Ratke\""
   ]
  },
  {
   "cell_type": "code",
   "execution_count": null,
   "metadata": {},
   "outputs": [],
   "source": [
    "python library.py --get --auteur \"Dr. Kaitlyn Ratke\""
   ]
  },
  {
   "cell_type": "markdown",
   "metadata": {},
   "source": [
    "## Lister tous les commentaires du livre dont l’id est « 0180338d-9d81-4057-bed4-b876012e8ead »"
   ]
  },
  {
   "cell_type": "code",
   "execution_count": null,
   "metadata": {},
   "outputs": [],
   "source": [
    "python test_cmd3.py get commentaires 0180338d-9d81-4057-bed4-b876012e8ead"
   ]
  },
  {
   "cell_type": "code",
   "execution_count": null,
   "metadata": {},
   "outputs": [],
   "source": [
    "python library.py -g -r -b 1d52ba85-97c8-4cc3-b81a-40582f3aff64"
   ]
  },
  {
   "cell_type": "markdown",
   "metadata": {},
   "source": []
  },
  {
   "cell_type": "code",
   "execution_count": null,
   "metadata": {},
   "outputs": [],
   "source": [
    "python library.py --get --reviews --books 1d52ba85-97c8-4cc3-b81a-40582f3aff64"
   ]
  },
  {
   "cell_type": "markdown",
   "metadata": {},
   "source": [
    "## Créer un nouveau commentaire \n",
    "avec le texte et la note de votre choix pour le livre dont l’id est « 1b08c9ab-6254-4015-ad14-bac3e5c008df »"
   ]
  },
  {
   "cell_type": "code",
   "execution_count": null,
   "metadata": {},
   "outputs": [],
   "source": [
    "python library.py -p -r -b 1b08c9ab-6254-4015-ad14-bac3e5c008df \"a:Jean Bon\" \"n:2\" \"c:mon commentaire\""
   ]
  },
  {
   "cell_type": "markdown",
   "metadata": {},
   "source": []
  },
  {
   "cell_type": "code",
   "execution_count": null,
   "metadata": {},
   "outputs": [],
   "source": [
    "python library.py --post --review --book 1b08c9ab-6254-4015-ad14-bac3e5c008df \"a:Jean Bon\" \"n:2\" \"c:mon commentaire\""
   ]
  },
  {
   "cell_type": "markdown",
   "metadata": {},
   "source": [
    "## Modifier votre nouveau commentaire\n",
    "en utilisant l’id qui vous a été fourni lors de sa création"
   ]
  },
  {
   "cell_type": "code",
   "execution_count": null,
   "metadata": {},
   "outputs": [],
   "source": [
    "python library.py -pa -r 1d52ba85-97c8-4cc3-b81a-40582f3aff64 \"body\": \"Si debugger, c’est supprimer des bugs, alors programmer ne peut être que les ajouter\""
   ]
  },
  {
   "cell_type": "code",
   "execution_count": null,
   "metadata": {},
   "outputs": [],
   "source": [
    "python library.py patch review 1d52ba85-97c8-4cc3-b81a-40582f3aff64 \"body\": \"Si debugger, c’est supprimer des bugs, alors programmer ne peut être que les ajouter\""
   ]
  }
 ],
 "metadata": {
  "kernelspec": {
   "display_name": "Python 3",
   "language": "python",
   "name": "python3"
  },
  "language_info": {
   "codemirror_mode": {
    "name": "ipython",
    "version": 3
   },
   "file_extension": ".py",
   "mimetype": "text/x-python",
   "name": "python",
   "nbconvert_exporter": "python",
   "pygments_lexer": "ipython3",
   "version": "3.7.5"
  }
 },
 "nbformat": 4,
 "nbformat_minor": 2
}
