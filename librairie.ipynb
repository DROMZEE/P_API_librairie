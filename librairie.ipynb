{
 "cells": [
  {
   "cell_type": "markdown",
   "metadata": {},
   "source": [
    "# Projet librairie"
   ]
  },
  {
   "cell_type": "code",
   "execution_count": 1,
   "metadata": {},
   "outputs": [],
   "source": [
    "import requests"
   ]
  },
  {
   "cell_type": "markdown",
   "metadata": {},
   "source": [
    "https://2.python-requests.org/en/master/\n",
    "\n",
    "api \n",
    "https://demo.api-platform.com/"
   ]
  },
  {
   "cell_type": "markdown",
   "metadata": {},
   "source": [
    "## 1 Lister les 10 derniers livres par leur date de publication"
   ]
  },
  {
   "cell_type": "markdown",
   "metadata": {},
   "source": [
    "### 1.1. Etape 1 : Lister tous les books"
   ]
  },
  {
   "cell_type": "code",
   "execution_count": 4,
   "metadata": {},
   "outputs": [
    {
     "name": "stdout",
     "output_type": "stream",
     "text": [
      "{\"@context\":\"\\/contexts\\/Book\",\"@id\":\"\\/books\",\"@type\":\"hydra:Collection\",\"hydra:member\":[{\"@id\":\"\\/books\\/02e4fb87-19b1-4b21-b6d6-bdeb00470ac0\",\"@type\":\"http:\\/\\/schema.org\\/Book\",\"isbn\":\"9786345594169\",\"title\":\"New Example mukanihhhsa\",\"description\":\"Facilis quisquam vero eligendi nemo nisi. Nobis vero sit laborum unde sapiente. Suscipit quisquam et quos non nisi.  bjgfi fyf sy sr yl uh bjh h\",\"author\":\"Ozella z\",\"publicationDate\":\"2002-10-15T00:00:00+00:00\",\"reviews\":[]},{\"@id\":\"\\/books\\/030075a5-4bc7-4084-a315-5ea304636d45\",\"@type\":\"http:\\/\\/schema.org\\/Book\",\"isbn\":\"9781802036169\",\"title\":\"Alias et similique impedit beatae dolores.\",\"description\":\"Qui voluptas rerum quia et harum dolor quaerat libero. Repellat rerum voluptas dolore. Vero voluptates fugit officiis explicabo. Libero sit ducimus minima.\",\"author\":\"Ms. Mollie Padbergee\",\"publicationDate\":\"2019-02-01T00:00:00+00:00\",\"reviews\":[{\"@id\":\"\\/reviews\\/4b06547b-b763-45c0-860d-22c1f31398ea\",\"@type\":\"http:\\/\\/schema.org\\/Review\",\"body\":\"Eaque et in amet et eius aut dolor. Omnis et inventore doloremque labore laborum rerum. Voluptatibus eos facilis soluta eos quis dolor aut. Quia nemo amet rem vero iusto blanditiis sit.\"},{\"@id\":\"\\/reviews\\/57e1bb11-61e7-4068-a78c-fcafa2248ee6\",\"@type\":\"http:\\/\\/schema.org\\/Review\",\"body\":\"Et consequuntur aliquid odio est a reiciendis et. Mollitia fugiat placeat ut magnam veritatis consequuntur. Excepturi explicabo est delectus et. Dolore voluptatibus ex et tempora.\"}]},{\"@id\":\"\\/books\\/033621ff-16df-4aa3-9de5-36a1045ae147\",\"@type\":\"http:\\/\\/schema.org\\/Book\",\"isbn\":\"9783977329138\",\"title\":\"Hic blanditiis ab architecto quas.\",\"description\":\"Aut facilis dolore doloremque unde fuga nostrum. Dolorem dicta repellendus dolorum fugit dolorem molestiae aut. Enim cupiditate qui dolore nobis in autem dicta. Deserunt perspiciatis ut vel quibusdam.\",\"author\":\"Caden Halvorson\",\"publicationDate\":\"1995-06-20T00:00:00+00:00\",\"reviews\":[]},{\"@id\":\"\\/books\\/0354ccf0-e4df-4a9a-94e8-08179b7f2385\",\"@type\":\"http:\\/\\/schema.org\\/Book\",\"isbn\":\"9786074444995\",\"title\":\"Doloremque aperiam qui rerum accusamus beatae.\",\"description\":\"Et doloribus voluptatibus perspiciatis quae sapiente. Suscipit doloribus cupiditate dolorem saepe. Quas magni rerum consequatur laudantium nisi quo.\",\"author\":\"Dr. Helga Tremblay PhD\",\"publicationDate\":\"2008-02-17T00:00:00+00:00\",\"reviews\":[{\"@id\":\"\\/reviews\\/b92d7974-cd3b-49c7-9fef-4ca1e124aa7c\",\"@type\":\"http:\\/\\/schema.org\\/Review\",\"body\":\"Fugiat est iure rerum unde autem. Voluptatem voluptatem nihil cupiditate dolores id hic. Ad omnis rerum molestiae autem doloribus quo sit dolorum. Esse voluptatibus repellat corrupti consequuntur voluptatem magnam et.\"}]},{\"@id\":\"\\/books\\/05fbf9c4-5fdb-440b-89b1-9da0c00459db\",\"@type\":\"http:\\/\\/schema.org\\/Book\",\"isbn\":\"9787660207130\",\"title\":\"Quam occaecati culpa aut in.\",\"description\":\"Et aut laborum cupiditate corporis aliquid aut cumque. Non qui est maiores aliquid. Autem qui est velit excepturi et necessitatibus tenetur doloremque.\",\"author\":\"Prof. Lee Blick PhD\",\"publicationDate\":\"1989-05-06T00:00:00+00:00\",\"reviews\":[{\"@id\":\"\\/reviews\\/58e81c9f-b54d-491f-b161-41dcd0fd3df7\",\"@type\":\"http:\\/\\/schema.org\\/Review\",\"body\":\"Animi saepe esse aut voluptatibus voluptatem illum eligendi. Et voluptatem quae sed eos nobis eum. Sequi ut exercitationem hic iste.\"},{\"@id\":\"\\/reviews\\/84b6f053-2cbf-4384-8fc6-075c7a10df0c\",\"@type\":\"http:\\/\\/schema.org\\/Review\",\"body\":\"Voluptate nostrum ut ab voluptatem voluptas quia repellat. Dolores repellat et repellat cumque aut tenetur harum vero. Dolores veritatis perspiciatis aut voluptatem ut reprehenderit quibusdam dolorem. Sed inventore aut voluptatem voluptates.\"},{\"@id\":\"\\/reviews\\/29afd3a1-9e94-480c-8ef3-0f0fcf4bf94e\",\"@type\":\"http:\\/\\/schema.org\\/Review\",\"body\":\"Consequatur a omnis unde ut. Saepe ullam nam placeat pariatur ratione. Corrupti sint quae velit aut est et repudiandae sint. Tempora harum dolor corrupti eos earum mollitia.\"},{\"@id\":\"\\/reviews\\/a80f3167-d026-4ee0-9927-52a2c250c926\",\"@type\":\"http:\\/\\/schema.org\\/Review\",\"body\":\"Eum a enim delectus distinctio occaecati voluptate. Eos voluptatem voluptas quaerat suscipit qui. Neque consectetur debitis veritatis ipsam. Placeat soluta iusto doloribus qui est.\"},{\"@id\":\"\\/reviews\\/d6ed0cf3-c48d-4414-9595-5f436f2f99cb\",\"@type\":\"http:\\/\\/schema.org\\/Review\",\"body\":\"Iusto possimus accusantium fugiat ratione doloremque delectus. Aut nihil neque voluptas neque. Voluptatibus eos sit voluptate voluptatem dolor.\"},{\"@id\":\"\\/reviews\\/46263e98-c4d2-4cbe-8419-ee9f2b895e3f\",\"@type\":\"http:\\/\\/schema.org\\/Review\",\"body\":\"Rerum veniam nulla nam nisi. Voluptatem eum molestiae quas et sunt. Labore tempora molestias tempore iure et atque autem delectus. Voluptatum et inventore debitis voluptatem.\"},{\"@id\":\"\\/reviews\\/b4a11280-1ef0-4cd9-8d99-e79eb904f95a\",\"@type\":\"http:\\/\\/schema.org\\/Review\",\"body\":\"Magni officia omnis repellendus sed qui eligendi voluptatum quos. Ea dolore et ea nobis ut quibusdam aut. Ut in ipsum cum eos.\"}]},{\"@id\":\"\\/books\\/07234970-21c1-486a-bad0-f7b1ee1db982\",\"@type\":\"http:\\/\\/schema.org\\/Book\",\"isbn\":\"9785189880940\",\"title\":\"Amet commodi quia consequuntur quod vel deserunt maiores.\",\"description\":\"Sit ea consequatur omnis est sint reprehenderit. Quo tempora mollitia dignissimos qui. Recusandae molestias soluta ducimus maiores id non eius.\",\"author\":\"Florencio Renner\",\"publicationDate\":\"1975-11-30T00:00:00+00:00\",\"reviews\":[{\"@id\":\"\\/reviews\\/79872b67-c92f-4ecf-b816-58b2ed12830d\",\"@type\":\"http:\\/\\/schema.org\\/Review\",\"body\":\"Animi sapiente dolor quia. Suscipit voluptas sit rerum. Magni omnis debitis ipsum hic quaerat beatae doloribus. Cupiditate voluptatibus est qui ea qui voluptatem.\"},{\"@id\":\"\\/reviews\\/2e1fc159-a2e3-4d48-8d93-e0096b4bbe64\",\"@type\":\"http:\\/\\/schema.org\\/Review\",\"body\":\"Qui culpa corporis modi ut. Incidunt exercitationem qui est ut. Quas quibusdam eius ex culpa ut repellendus ut. Temporibus eveniet rem molestiae repudiandae rerum.\"},{\"@id\":\"\\/reviews\\/35813e58-874f-45eb-827d-93ebdc5829f0\",\"@type\":\"http:\\/\\/schema.org\\/Review\",\"body\":\"Accusantium nisi totam modi quam asperiores. Nisi quia vel voluptas ad. Quidem voluptas libero distinctio non possimus. Et excepturi esse nam consequatur possimus omnis quia. Aliquam pariatur praesentium repudiandae rerum.\"},{\"@id\":\"\\/reviews\\/654e7891-f07a-43c7-a6f2-42be2ae5d065\",\"@type\":\"http:\\/\\/schema.org\\/Review\",\"body\":\"Ut ipsa sint ducimus. Quia cum ratione reiciendis cumque sunt provident dolorem est.\"},{\"@id\":\"\\/reviews\\/4b08dc10-bf75-4124-a70a-75e852d3a42a\",\"@type\":\"http:\\/\\/schema.org\\/Review\",\"body\":\"Est nisi soluta omnis omnis. Quis sint voluptatem delectus omnis. Voluptas sapiente distinctio corrupti veritatis.\"}]},{\"@id\":\"\\/books\\/07379129-ae1e-411b-837c-eccd1f640c88\",\"@type\":\"http:\\/\\/schema.org\\/Book\",\"isbn\":\"9796434032946\",\"title\":\"Et mollitia deleniti qui nostrum.\",\"description\":\"Aut molestiae sapiente est consequatur. Tempore similique ut debitis consequatur.\",\"author\":\"Lorine Barrows\",\"publicationDate\":\"1973-07-02T00:00:00+00:00\",\"reviews\":[{\"@id\":\"\\/reviews\\/91cde787-4b84-4a53-9736-f60decc1f44c\",\"@type\":\"http:\\/\\/schema.org\\/Review\",\"body\":\"In veritatis sit consequuntur magnam mollitia nam. Adipisci voluptatum a hic excepturi. Dolorem dolor mollitia repellat est autem sunt error.\"},{\"@id\":\"\\/reviews\\/a7cd5c82-320d-4305-b153-b4b2261c1bd7\",\"@type\":\"http:\\/\\/schema.org\\/Review\",\"body\":\"Aspernatur perferendis ipsa dolorem. Accusamus quos et quas quaerat repudiandae est. Illo quasi atque quod adipisci ut. Autem nam alias temporibus dolorem illo facere veritatis quia. Perferendis laboriosam dignissimos rem et distinctio doloremque.\"},{\"@id\":\"\\/reviews\\/d46c1b76-9a75-4065-bd7f-03c5356fb982\",\"@type\":\"http:\\/\\/schema.org\\/Review\",\"body\":\"Tempora est tempora sunt fugiat. Quam quis aperiam voluptatem illo ratione et.\"},{\"@id\":\"\\/reviews\\/47fefef6-7a88-48ec-b558-2dd76c956ca3\",\"@type\":\"http:\\/\\/schema.org\\/Review\",\"body\":\"Similique unde qui amet laboriosam expedita et. Est magni consequatur culpa ipsum.\"},{\"@id\":\"\\/reviews\\/d8fbb5ed-ab0c-43a6-a718-bf59af94e548\",\"@type\":\"http:\\/\\/schema.org\\/Review\",\"body\":\"Accusamus sit totam odit magni veritatis. In et porro vitae ipsam in amet. Voluptatem in sapiente aperiam laboriosam deserunt. Non distinctio accusantium consequatur ut omnis ratione consequatur.\"}]},{\"@id\":\"\\/books\\/07d7233a-03b7-434d-adf8-9e81ecba2cf3\",\"@type\":\"http:\\/\\/schema.org\\/Book\",\"isbn\":\"9780935905847\",\"title\":\"Molestias occaecati quo culpa distinctio et consequatur.\",\"description\":\"Corporis qui dolor sit cumque natus. Neque esse dicta architecto omnis quae consequatur. Est sit beatae quo alias aut.\",\"author\":\"Kelsie Kulas\",\"publicationDate\":\"1972-09-22T00:00:00+00:00\",\"reviews\":[{\"@id\":\"\\/reviews\\/a5965a28-286e-4dad-b865-f396c186bf91\",\"@type\":\"http:\\/\\/schema.org\\/Review\",\"body\":\"Ipsam aliquam voluptatum maiores quidem et dolores ducimus. Facere quis illo corrupti ut nobis voluptatem possimus. Exercitationem veritatis neque ut nisi rerum numquam voluptatem. Qui aliquam rerum doloribus officia voluptates nihil nostrum voluptatem.\"},{\"@id\":\"\\/reviews\\/e3e7489b-a940-43e7-9ae4-a8376fe8e8e0\",\"@type\":\"http:\\/\\/schema.org\\/Review\",\"body\":\"Dolorum libero ut provident qui. Ut nam provident porro earum voluptatem et autem laborum. Placeat provident adipisci deserunt pariatur repudiandae sit dolorem et.\"},{\"@id\":\"\\/reviews\\/c819fec3-1bf8-4b11-b6cb-6bbeb60b0ccc\",\"@type\":\"http:\\/\\/schema.org\\/Review\",\"body\":\"Neque magni quia occaecati repellat voluptas. Aut ea ipsum ad dignissimos et. Asperiores non aut fuga aut. Reprehenderit aut odio non quia officiis accusamus.\"},{\"@id\":\"\\/reviews\\/457b5f03-4a33-49f0-89ef-e157c9ca1d55\",\"@type\":\"http:\\/\\/schema.org\\/Review\",\"body\":\"Quis ratione voluptate qui ut libero. Illum est sunt et. Quaerat ut illo voluptatum quo rerum quisquam consequuntur. Consequuntur natus aut et et quas et id.\"}]},{\"@id\":\"\\/books\\/08c7d827-9fff-4f75-a886-7618d8d0a9ca\",\"@type\":\"http:\\/\\/schema.org\\/Book\",\"isbn\":\"9793108107627\",\"title\":\"Et maiores laboriosam qui pariatur.\",\"description\":\"Architecto consequatur animi et nulla voluptate iste enim. Architecto aliquid amet eveniet voluptatem. Vero tempore odit commodi aut culpa totam. Facere sit et voluptatum suscipit aut dolores.\",\"author\":\"Tobin Hyatt\",\"publicationDate\":\"1996-08-19T00:00:00+00:00\",\"reviews\":[{\"@id\":\"\\/reviews\\/9acb1299-e636-4a65-93e1-dfaf9a7ff3d4\",\"@type\":\"http:\\/\\/schema.org\\/Review\",\"body\":\"Ut magni voluptatem maiores quia perferendis ut repudiandae. Molestiae molestiae et consequatur neque. Praesentium assumenda reiciendis consectetur quo incidunt provident. Est ipsam qui fuga doloremque.\"}]},{\"@id\":\"\\/books\\/09319e88-899b-434d-b879-304483c78122\",\"@type\":\"http:\\/\\/schema.org\\/Book\",\"isbn\":\"9791891164452\",\"title\":\"Cupiditate a eum natus officia laudantium recusandae aliquam.\",\"description\":\"Qui vitae enim et explicabo possimus nesciunt voluptatibus. Officia fugit iste et et. Totam repellendus provident voluptatem.\",\"author\":\"Percival Toy\",\"publicationDate\":\"2017-06-20T00:00:00+00:00\",\"reviews\":[{\"@id\":\"\\/reviews\\/3b1a339a-ccf2-4d6a-a3d3-c6e065a97d95\",\"@type\":\"http:\\/\\/schema.org\\/Review\",\"body\":\"Qui voluptatem beatae quia accusamus et libero. Officia voluptatibus qui molestias temporibus.\"},{\"@id\":\"\\/reviews\\/c1f60bd8-be20-407c-ae0a-d58a94b1eb7f\",\"@type\":\"http:\\/\\/schema.org\\/Review\",\"body\":\"Accusamus odit exercitationem recusandae ut sit rerum. Veniam sit aliquid impedit natus. Sit perspiciatis harum enim ut harum. Debitis sit iste consequatur dolores voluptate nulla magnam.\"}]},{\"@id\":\"\\/books\\/0985d15e-ee04-4e22-84a5-419f5b6ea6dc\",\"@type\":\"http:\\/\\/schema.org\\/Book\",\"isbn\":\"9794776703739\",\"title\":\"Debitis et aliquam qui vel debitis.\",\"description\":\"Perferendis ut dolorum excepturi deleniti. Iure et atque aut consequuntur. Dolores in dolor necessitatibus qui. Et non quos quia repellat expedita.\",\"author\":\"Dr. Reynold Breitenberg Jr.\",\"publicationDate\":\"1976-01-09T00:00:00+00:00\",\"reviews\":[{\"@id\":\"\\/reviews\\/6bdf305f-cc3e-49f1-9e85-289e3409e907\",\"@type\":\"http:\\/\\/schema.org\\/Review\",\"body\":\"Qui necessitatibus nostrum consequatur quibusdam voluptas. Dignissimos magni reiciendis labore corporis laudantium dolorem. Aut hic odio ex minus.\"},{\"@id\":\"\\/reviews\\/c4d5b5f6-2b92-4548-9b43-5d63dd294e8b\",\"@type\":\"http:\\/\\/schema.org\\/Review\",\"body\":\"Quam veniam id recusandae dolor. Commodi necessitatibus amet eos ut enim. Omnis qui fugit illum dolores ut. Quasi enim consequatur autem necessitatibus consequuntur doloremque sapiente. Ab eum id saepe reprehenderit dignissimos.\"},{\"@id\":\"\\/reviews\\/7348802a-2f67-468b-bbe3-992a12d99045\",\"@type\":\"http:\\/\\/schema.org\\/Review\",\"body\":\"Illo officia aut qui sunt accusantium. Minus quidem eveniet eaque voluptatum. Ea maiores in rerum ex repellendus omnis aut.\"}]},{\"@id\":\"\\/books\\/0cacd6df-86ae-47e8-9222-57f3f10d37e3\",\"@type\":\"http:\\/\\/schema.org\\/Book\",\"isbn\":\"9780736900799\",\"title\":\"Nulla consectetur beatae autem dolorem maiores.\",\"description\":\"In pariatur omnis blanditiis consectetur itaque. Cupiditate praesentium itaque et reiciendis. Sapiente est adipisci quaerat voluptas vitae quia molestiae.\",\"author\":\"Frederic Dooley\",\"publicationDate\":\"2005-09-06T00:00:00+00:00\",\"reviews\":[{\"@id\":\"\\/reviews\\/964d5d2d-90d1-43cb-9ab5-a14f4a73a134\",\"@type\":\"http:\\/\\/schema.org\\/Review\",\"body\":\"Necessitatibus repudiandae consequatur qui rerum. Qui nulla et consequatur natus similique earum. Et et sit tempora hic recusandae velit. Magnam ducimus eius sunt recusandae quidem.\"},{\"@id\":\"\\/reviews\\/77027038-084a-4676-8805-0b0b83d69c5b\",\"@type\":\"http:\\/\\/schema.org\\/Review\",\"body\":\"Deleniti at excepturi temporibus excepturi. Sapiente quia reprehenderit eligendi repudiandae molestiae deserunt. Non exercitationem et quia nulla eos ex facere pariatur. Laborum aut id consequuntur tenetur.\"}]},{\"@id\":\"\\/books\\/0d7d86f7-e23a-4dcb-9207-d46aa898db2b\",\"@type\":\"http:\\/\\/schema.org\\/Book\",\"isbn\":\"9789217759086\",\"title\":\"Aut culpa reiciendis dolorum eaque accusantium exercitationem animi.\",\"description\":\"Ipsa distinctio consequatur temporibus sunt officia et. Impedit et cumque rerum qui ut non perspiciatis. Voluptatem eligendi provident sed sint. Qui sint quos aut quibusdam.\",\"author\":\"Conrad Robel\",\"publicationDate\":\"2004-06-21T00:00:00+00:00\",\"reviews\":[{\"@id\":\"\\/reviews\\/3debbd96-8faa-4505-83cf-f280575b1e7e\",\"@type\":\"http:\\/\\/schema.org\\/Review\",\"body\":\"Ex dolor quia fuga exercitationem ut. Magnam et reiciendis qui officia voluptas blanditiis.\"},{\"@id\":\"\\/reviews\\/99bfd2ac-1871-4c99-ad4c-715a3d952bc5\",\"@type\":\"http:\\/\\/schema.org\\/Review\",\"body\":\"Rerum laboriosam inventore reiciendis libero quo aut. Consectetur exercitationem totam distinctio animi. Porro enim amet molestias deserunt sit expedita.\"},{\"@id\":\"\\/reviews\\/a31adc45-dae2-464b-8647-d9d12dae9f34\",\"@type\":\"http:\\/\\/schema.org\\/Review\",\"body\":\"Architecto ut rem nihil fuga. Consequatur fugit est odit quisquam. Consequatur eligendi natus itaque ea. Voluptates omnis ea magnam consequatur ipsa est quia.\"},{\"@id\":\"\\/reviews\\/d1741f93-b22c-416d-b541-f9771f9bb491\",\"@type\":\"http:\\/\\/schema.org\\/Review\",\"body\":\"Maxime aliquam quo quam beatae expedita corrupti quia. Sed numquam veniam velit quisquam commodi nemo et.\"},{\"@id\":\"\\/reviews\\/5761a688-a12f-41c0-9036-6e65f189e5ef\",\"@type\":\"http:\\/\\/schema.org\\/Review\",\"body\":\"Veritatis quod quis deleniti neque dolores doloremque quia. Exercitationem et voluptatem voluptas a est placeat repellat aut. Doloribus recusandae eum error. Veritatis iusto vero soluta minima quo.\"}]},{\"@id\":\"\\/books\\/0f48678b-44ce-4788-b970-1f008ea23955\",\"@type\":\"http:\\/\\/schema.org\\/Book\",\"isbn\":\"9791572927888\",\"title\":\"Hic perspiciatis ab est neque ipsam.\",\"description\":\"Error consequatur vero sint qui rerum vel aut provident. Atque qui at molestiae commodi id. Commodi dolorem voluptas occaecati itaque vel voluptatibus.\",\"author\":\"Mrs. Marlee Abshire\",\"publicationDate\":\"2010-01-28T00:00:00+00:00\",\"reviews\":[{\"@id\":\"\\/reviews\\/43d0bb0b-5e1c-4007-b221-7d88dbf94917\",\"@type\":\"http:\\/\\/schema.org\\/Review\",\"body\":\"Perspiciatis et at repellat repellendus debitis et. Voluptate dolores quas consequatur tempora deleniti molestias magni qui. Et sapiente fugiat ab tempore. Distinctio ut exercitationem et voluptatem et et.\"},{\"@id\":\"\\/reviews\\/5f6fd3f7-b2d3-4444-9205-b21068b8a570\",\"@type\":\"http:\\/\\/schema.org\\/Review\",\"body\":\"Id quidem asperiores quod velit alias repudiandae accusantium. Quos assumenda possimus modi cupiditate. Voluptatibus nesciunt sed neque aliquam sed. Omnis dolorem dicta quis ut aut nesciunt. Aliquam reiciendis provident ducimus exercitationem qui voluptas asperiores.\"},{\"@id\":\"\\/reviews\\/3d5badeb-867f-4429-8895-35c1addb8565\",\"@type\":\"http:\\/\\/schema.org\\/Review\",\"body\":\"Velit repellat asperiores natus porro odit. Ea enim sit et laboriosam sapiente. Reprehenderit magnam fuga ut iste ad consequatur quae sequi. Vitae voluptates ducimus officiis.\"},{\"@id\":\"\\/reviews\\/3f5a0f49-d2ab-4576-8247-16a875c1fcad\",\"@type\":\"http:\\/\\/schema.org\\/Review\",\"body\":\"Vero magnam nobis explicabo voluptates sunt veritatis ea. Eum qui unde exercitationem aut et et iure. Id consequatur rerum voluptatem velit et et ut. At corrupti amet inventore quis in occaecati quos repellat.\"},{\"@id\":\"\\/reviews\\/1964d92d-096f-4373-9ec6-3f20994a25ce\",\"@type\":\"http:\\/\\/schema.org\\/Review\",\"body\":\"Et sunt similique minus voluptatem. Quia tenetur similique incidunt inventore dolore nobis animi. Esse aperiam quod provident eaque.\"}]},{\"@id\":\"\\/books\\/11ca1225-a6fc-4ba1-bf03-bd4400c03ec5\",\"@type\":\"http:\\/\\/schema.org\\/Book\",\"isbn\":\"9782286589301\",\"title\":\"Et nobis dolore praesentium assumenda dolores harum.\",\"description\":\"Voluptatem necessitatibus nobis vel. Sit voluptatem dolores distinctio velit fugiat quaerat reiciendis. Saepe reprehenderit quis modi molestias qui expedita delectus. Magni qui animi aut minus deleniti illo blanditiis.\",\"author\":\"Ernie Schuppe DVM\",\"publicationDate\":\"2012-07-15T00:00:00+00:00\",\"reviews\":[{\"@id\":\"\\/reviews\\/73f4a18f-4069-4fe8-8110-bdb5f4538654\",\"@type\":\"http:\\/\\/schema.org\\/Review\",\"body\":\"Quos commodi libero et sed. Dolorem ullam sapiente nam. Sapiente eos dignissimos veniam.\"},{\"@id\":\"\\/reviews\\/4826cad4-bab3-4ed6-bf40-50b728081f06\",\"@type\":\"http:\\/\\/schema.org\\/Review\",\"body\":\"Dolore illo enim deserunt repellendus asperiores. Voluptate qui voluptatibus saepe accusantium accusamus quasi illum. Explicabo in modi dolorem eum aliquam.\"}]},{\"@id\":\"\\/books\\/11e9fa95-1744-45a0-a7c0-b0e4f06456ea\",\"@type\":\"http:\\/\\/schema.org\\/Book\",\"isbn\":\"9786451149666\",\"title\":\"Est est et eveniet porro non.\",\"description\":\"Suscipit quo velit quaerat libero. Nihil minus alias eos et cum illum. Et maiores inventore iure tempora perspiciatis. Numquam veniam sequi dolorem quisquam amet nam ipsa.\",\"author\":\"Deonte Effertz\",\"publicationDate\":\"1988-09-19T00:00:00+00:00\",\"reviews\":[{\"@id\":\"\\/reviews\\/b79cbb6f-ed93-48bd-b9fe-11228ff2ac4c\",\"@type\":\"http:\\/\\/schema.org\\/Review\",\"body\":\"Odio ut ipsa culpa sit sint pariatur harum. Suscipit et minima rerum maxime omnis consequatur. Voluptatibus sunt quia omnis ut delectus velit.\"},{\"@id\":\"\\/reviews\\/48a1d5c0-f882-41ec-9837-705c2f1096e8\",\"@type\":\"http:\\/\\/schema.org\\/Review\",\"body\":\"A facilis aliquid reiciendis quas quis quisquam. Autem exercitationem facere accusantium ipsum quo error sunt optio. Eos ad quaerat quod similique dicta sunt. Asperiores cumque tempore eligendi.\"},{\"@id\":\"\\/reviews\\/32e08578-09f4-4b94-85d0-0d1859fc179b\",\"@type\":\"http:\\/\\/schema.org\\/Review\",\"body\":\"Officiis eaque expedita hic voluptatem sed voluptate expedita. Illum omnis quia et velit rerum ipsa. Sit fugit dolor voluptatem debitis adipisci rerum nam aspernatur. Eum omnis vel rem quas. Quia tempora sunt cupiditate esse quae illum.\"},{\"@id\":\"\\/reviews\\/d9358ee0-177d-41d2-9194-86fa87f95cd1\",\"@type\":\"http:\\/\\/schema.org\\/Review\",\"body\":\"Sed sunt doloribus ea earum. In ad nam debitis sit. At soluta sint omnis ullam.\"}]},{\"@id\":\"\\/books\\/15fd2114-77f5-4c40-94e0-fcfce6f4bf4e\",\"@type\":\"http:\\/\\/schema.org\\/Book\",\"isbn\":\"9799928583436\",\"title\":\"Iure sequi cum culpa rem.\",\"description\":\"Exercitationem est rem dicta voluptas fuga totam reiciendis. Architecto fugiat nemo omnis consequatur recusandae qui cupiditate.\",\"author\":\"Nicholas Berge\",\"publicationDate\":\"2010-07-23T00:00:00+00:00\",\"reviews\":[{\"@id\":\"\\/reviews\\/9241bf09-1173-4114-8db9-194d5676fff2\",\"@type\":\"http:\\/\\/schema.org\\/Review\",\"body\":\"Officiis quo minus eaque in. Perferendis quidem optio occaecati rerum assumenda. Aut quo hic et eos. Vitae voluptatem tempora illo esse possimus maiores perspiciatis.\"},{\"@id\":\"\\/reviews\\/dd31adfe-e0be-43c3-9c09-67b7a09fac6b\",\"@type\":\"http:\\/\\/schema.org\\/Review\",\"body\":\"Fugiat aperiam rerum qui perspiciatis accusamus cupiditate eaque. Illum atque quia labore eaque. Et odio rerum ipsum ut quia.\"},{\"@id\":\"\\/reviews\\/ccd3eac6-8d36-4abf-84e3-d13e84974b22\",\"@type\":\"http:\\/\\/schema.org\\/Review\",\"body\":\"Rem suscipit recusandae hic cumque voluptatem. Dolor exercitationem quibusdam ea qui laudantium est. Quis et vero dicta et voluptas explicabo quis nemo. Quasi minus est quaerat.\"},{\"@id\":\"\\/reviews\\/35ecb893-27fb-4870-8282-8d72656e90b7\",\"@type\":\"http:\\/\\/schema.org\\/Review\",\"body\":\"Voluptas autem aut autem ut aperiam est. Assumenda quia est consectetur molestias quae.\"}]},{\"@id\":\"\\/books\\/1624b87c-917e-45c8-bebc-3af88c22dcf3\",\"@type\":\"http:\\/\\/schema.org\\/Book\",\"isbn\":\"9795895116516\",\"title\":\"Consequuntur voluptates non quasi minima.\",\"description\":\"Laborum dolor quasi totam qui ipsam iusto enim. Molestias amet aut qui. Et fuga velit iure consequuntur qui provident et. Veniam et adipisci libero qui qui maiores est.\",\"author\":\"Dr. Dewayne Swaniawski MD\",\"publicationDate\":\"1982-09-24T00:00:00+00:00\",\"reviews\":[{\"@id\":\"\\/reviews\\/b9fbb031-551c-4ed8-87d7-066d5792599f\",\"@type\":\"http:\\/\\/schema.org\\/Review\",\"body\":\"Beatae ut quam repellendus voluptas consequatur. Pariatur dolorem vitae dolorum iste commodi. Mollitia aut id voluptatibus sequi nemo autem ipsam cumque.\"},{\"@id\":\"\\/reviews\\/4f509c83-260b-4027-b348-414cb1849493\",\"@type\":\"http:\\/\\/schema.org\\/Review\",\"body\":\"Sunt sapiente est velit quasi. Tenetur veniam voluptatibus voluptatem voluptate est ut voluptatum. Voluptatem fuga odio provident quia quae.\"},{\"@id\":\"\\/reviews\\/d806ce9b-3c19-4574-af93-af95e18f8f98\",\"@type\":\"http:\\/\\/schema.org\\/Review\",\"body\":\"Ut quia sunt a. Vitae porro dolorem dicta temporibus. Fuga tempore sit rem est sit. Ipsum odio illum praesentium voluptatem iusto.\"},{\"@id\":\"\\/reviews\\/50ed33ab-6fad-4ee3-9848-4a9d71a9fda2\",\"@type\":\"http:\\/\\/schema.org\\/Review\",\"body\":\"Aperiam ut provident ipsa odit maiores et. Ratione et nihil rerum voluptates dolorum. Aspernatur accusamus minus nemo perspiciatis ut. Provident ut consequuntur soluta.\"},{\"@id\":\"\\/reviews\\/ae72187a-6c0a-456a-b82d-869c797b23a8\",\"@type\":\"http:\\/\\/schema.org\\/Review\",\"body\":\"Minima illo facilis magnam pariatur amet dolor eum. Harum repellat rerum perspiciatis consequatur. Molestiae ut omnis accusamus molestiae officia qui.\"}]},{\"@id\":\"\\/books\\/17dc31d2-1d86-4002-b7a5-d91916670a13\",\"@type\":\"http:\\/\\/schema.org\\/Book\",\"isbn\":\"9781758312188\",\"title\":\"Eligendi vel est repellat asperiores vitae neque optio quod.\",\"description\":\"Ut expedita ratione vitae qui. Ut repudiandae quod sit asperiores. Et nisi cumque et quod hic.\",\"author\":\"Roosevelt Cruickshank\",\"publicationDate\":\"2006-07-19T00:00:00+00:00\",\"reviews\":[{\"@id\":\"\\/reviews\\/962fc013-1160-4809-9733-8fc77a6410b9\",\"@type\":\"http:\\/\\/schema.org\\/Review\",\"body\":\"Itaque consequatur pariatur est totam. Architecto commodi ut sed harum consequuntur.\"},{\"@id\":\"\\/reviews\\/3a800d44-8ffa-4ff3-93a4-2888a523c0eb\",\"@type\":\"http:\\/\\/schema.org\\/Review\",\"body\":\"Perferendis autem at dolor quis quia et. Corrupti id dolorem nihil excepturi magnam adipisci. Illum rerum amet velit rem voluptas assumenda.\"},{\"@id\":\"\\/reviews\\/aba8031e-4675-4b36-9815-472b3dfa1194\",\"@type\":\"http:\\/\\/schema.org\\/Review\",\"body\":\"Architecto aut soluta in ea. Eum corporis quasi quasi. Qui atque aliquam a atque aut dicta iure repellat. Ut et necessitatibus quae consectetur ut voluptatibus.\"},{\"@id\":\"\\/reviews\\/27ece0c2-5ca2-4004-b564-3d414424d785\",\"@type\":\"http:\\/\\/schema.org\\/Review\",\"body\":\"Repudiandae suscipit nihil aspernatur aliquam dolor fugit est. Asperiores sit dolor iste quidem maxime voluptas sapiente. Est iste voluptatum optio iste. Distinctio quo fugiat laboriosam maiores aut consequatur ipsa reiciendis.\"},{\"@id\":\"\\/reviews\\/511d0014-8cc4-450f-af65-5a54edd63b52\",\"@type\":\"http:\\/\\/schema.org\\/Review\",\"body\":\"Reprehenderit tenetur est est quaerat quis fuga. Modi quod molestiae necessitatibus qui voluptate. Adipisci reiciendis nostrum ut quisquam est. Quasi quisquam nobis quia quia consequatur. Quod magnam enim qui qui enim.\"},{\"@id\":\"\\/reviews\\/c1b040e7-6fb6-4b9d-8199-204c5189b041\",\"@type\":\"http:\\/\\/schema.org\\/Review\",\"body\":\"Quos reiciendis architecto dignissimos suscipit voluptatibus cum alias. Fuga blanditiis ipsam itaque aliquid iusto. Molestias excepturi minus totam earum et eius ipsum fuga.\"},{\"@id\":\"\\/reviews\\/d174c1dd-509f-4b7e-8ffa-397bbed0a403\",\"@type\":\"http:\\/\\/schema.org\\/Review\",\"body\":\"Odio eos id odit sunt labore quia asperiores. Qui unde explicabo et aspernatur vel odio. Qui odit ipsa recusandae eveniet. Quisquam ex nam aut ut omnis qui possimus sunt. Laborum asperiores illum tempore similique eum sed error.\"}]},{\"@id\":\"\\/books\\/1851f03f-6fcb-42a0-b941-d9b6fd675063\",\"@type\":\"http:\\/\\/schema.org\\/Book\",\"isbn\":\"9781397350312\",\"title\":\"Expedita rerum nesciunt adipisci consequuntur voluptates et dolores.\",\"description\":\"Numquam expedita corrupti quidem earum est sit dolores. Id cupiditate et sunt suscipit. Et et dolores excepturi sed qui dolorum sed.\",\"author\":\"Christy Marquardt\",\"publicationDate\":\"1988-10-25T00:00:00+00:00\",\"reviews\":[{\"@id\":\"\\/reviews\\/dce40285-f80a-4e95-b364-c725865a32ff\",\"@type\":\"http:\\/\\/schema.org\\/Review\",\"body\":\"Ab veritatis quia esse est. Aut aut deleniti ut qui doloremque ipsum quia. Minus vero et officiis soluta non.\"},{\"@id\":\"\\/reviews\\/bc65b5d6-67c4-485a-a941-8ab736178078\",\"@type\":\"http:\\/\\/schema.org\\/Review\",\"body\":\"Repellat vel rerum molestias in. Blanditiis nisi aspernatur quo consequuntur ipsa consequatur. Et autem hic et consectetur delectus veniam numquam quo.\"}]},{\"@id\":\"\\/books\\/18927f49-58ee-445b-bd28-ca65759fdbf6\",\"@type\":\"http:\\/\\/schema.org\\/Book\",\"isbn\":\"9787591464961\",\"title\":\"Similique culpa dolorem dolor perspiciatis sit nostrum eum.\",\"description\":\"Doloremque beatae iure necessitatibus qui. Quasi rerum veritatis veritatis nam et quam. Voluptatem qui ut itaque iusto consequuntur. Consequuntur et cupiditate ea eligendi in ab facere sunt.\",\"author\":\"Kiera Heidenreich\",\"publicationDate\":\"2000-10-26T00:00:00+00:00\",\"reviews\":[{\"@id\":\"\\/reviews\\/ac863d49-0ccb-47ca-ad46-5fbf4c9667ad\",\"@type\":\"http:\\/\\/schema.org\\/Review\",\"body\":\"Eos qui quas corrupti et distinctio quis rerum. Quibusdam beatae nostrum qui laborum et. Autem fuga beatae fugiat ad esse eius dolor. Natus voluptas sequi maiores quibusdam quaerat consequatur.\"},{\"@id\":\"\\/reviews\\/9bd6048e-c500-4fa1-8fbf-0fa4b43b8f8e\",\"@type\":\"http:\\/\\/schema.org\\/Review\",\"body\":\"Omnis dicta voluptas veniam sit quo odio vero. Ducimus accusamus facilis quisquam neque dolores. Tempora natus minus adipisci. Quo ratione explicabo eos mollitia quod.\"},{\"@id\":\"\\/reviews\\/922e8f85-cd92-4e95-bc49-6f835558e264\",\"@type\":\"http:\\/\\/schema.org\\/Review\",\"body\":\"Rerum quis accusamus doloribus quasi atque. Similique ut enim in culpa placeat ut. Voluptatibus architecto molestiae id omnis enim.\"},{\"@id\":\"\\/reviews\\/ad256f2a-2a65-4577-afbd-d4ed7a88b96e\",\"@type\":\"http:\\/\\/schema.org\\/Review\",\"body\":\"Incidunt ratione in et assumenda ad minima cumque. Aut voluptatem ipsum autem sit aliquid.\"},{\"@id\":\"\\/reviews\\/b6ff739c-e7d3-49be-b23f-00778db642c6\",\"@type\":\"http:\\/\\/schema.org\\/Review\",\"body\":\"Nesciunt placeat voluptatum eligendi. Dignissimos nam sit nulla perspiciatis cumque. Ea quam voluptate ipsa veritatis. Doloremque dolores exercitationem adipisci perspiciatis explicabo.\"},{\"@id\":\"\\/reviews\\/4979bd44-7b43-46a8-8206-6ff09cdd2099\",\"@type\":\"http:\\/\\/schema.org\\/Review\",\"body\":\"Magni harum eos et laudantium et. Aliquid assumenda nesciunt est aut quo vel. Dolor aut et omnis magnam eligendi ea eos. Quia non ratione explicabo rerum quia quia qui.\"}]},{\"@id\":\"\\/books\\/1b08c9ab-6254-4015-ad14-bac3e5c008df\",\"@type\":\"http:\\/\\/schema.org\\/Book\",\"isbn\":\"9790973810966\",\"title\":\"Et sit enim omnis.\",\"description\":\"Consequatur mollitia ducimus veritatis. Ad labore quos saepe quia quia unde quos error. Saepe eos et ab velit.\",\"author\":\"Max Rosenbaum\",\"publicationDate\":\"1986-06-17T00:00:00+00:00\",\"reviews\":[{\"@id\":\"\\/reviews\\/5b7ec22b-d274-45f2-94a7-15e973db0ae4\",\"@type\":\"http:\\/\\/schema.org\\/Review\",\"body\":\"Quae sunt totam modi sit quae. Nesciunt et reprehenderit similique beatae explicabo possimus sit. Ipsam mollitia ad voluptas enim sed.\"},{\"@id\":\"\\/reviews\\/9da2b840-690e-4d63-879a-a474669f480f\",\"@type\":\"http:\\/\\/schema.org\\/Review\",\"body\":\"Est sapiente rerum quis magni ex assumenda occaecati molestiae. Atque exercitationem et aut voluptatibus vitae. Ipsum quo alias laudantium molestias omnis quam. Modi enim sapiente quis quibusdam est omnis consectetur.\"},{\"@id\":\"\\/reviews\\/7571fb77-93e6-4e43-be3f-8bcc21ef1421\",\"@type\":\"http:\\/\\/schema.org\\/Review\",\"body\":\"Et doloribus maxime ratione odit et eum. Autem consequatur eos beatae. Accusantium vitae molestias vitae aperiam quibusdam. Dicta blanditiis deserunt enim architecto blanditiis quaerat.\"},{\"@id\":\"\\/reviews\\/b0c9c00e-50aa-4268-beca-769a48fc6d99\",\"@type\":\"http:\\/\\/schema.org\\/Review\",\"body\":\"Quas sunt laboriosam accusantium amet. Id et ea voluptate inventore sed aut. Mollitia minus laudantium numquam non quibusdam qui iusto modi.\"}]},{\"@id\":\"\\/books\\/1b79cd71-e8ff-4442-9279-e972d01441f7\",\"@type\":\"http:\\/\\/schema.org\\/Book\",\"isbn\":\"9780530239033\",\"title\":\"Iste modi accusantium autem suscipit quia et et dolorum.\",\"description\":\"Delectus accusantium quidem ut eius. Corrupti totam placeat delectus voluptatem earum officiis sed autem. Voluptatem est quod alias iste similique aut.\",\"author\":\"Roslyn Morissette\",\"publicationDate\":\"2003-07-05T00:00:00+00:00\",\"reviews\":[{\"@id\":\"\\/reviews\\/57b0487b-3f0b-4e6d-a7e8-004f66aeb9fd\",\"@type\":\"http:\\/\\/schema.org\\/Review\",\"body\":\"Sit praesentium fuga rem consectetur. Sequi dolorum aut occaecati et. Debitis et non excepturi et.\"},{\"@id\":\"\\/reviews\\/2e9d160d-a9ef-4757-8f83-2ebe47615fef\",\"@type\":\"http:\\/\\/schema.org\\/Review\",\"body\":\"Omnis recusandae rerum ipsum animi ut earum alias. Veritatis itaque ipsum accusantium. Saepe voluptatem voluptatem et.\"},{\"@id\":\"\\/reviews\\/daa605b2-477c-4355-b37b-dd0442cc6c75\",\"@type\":\"http:\\/\\/schema.org\\/Review\",\"body\":\"Praesentium autem eaque ipsum. Non qui natus ab consequatur corporis earum omnis. Soluta itaque non laboriosam cupiditate quo est.\"}]},{\"@id\":\"\\/books\\/1cf8f728-9008-4e71-90eb-d680ea011589\",\"@type\":\"http:\\/\\/schema.org\\/Book\",\"isbn\":\"9794123358049\",\"title\":\"Quia minus sint quis voluptatem.\",\"description\":\"Sed ratione dolorem fugit inventore repellendus voluptatum sit. Et est qui delectus ipsam id non. Itaque sequi architecto quia veniam accusantium.\",\"author\":\"Ms. Grace Rippin DDS\",\"publicationDate\":\"2017-02-16T00:00:00+00:00\",\"reviews\":[{\"@id\":\"\\/reviews\\/e0d268b2-0781-4f4b-ba5f-0c8334e06e7d\",\"@type\":\"http:\\/\\/schema.org\\/Review\",\"body\":\"Et repellat veritatis debitis numquam possimus. Vel et maxime non repellendus placeat vitae. Rerum laboriosam eius omnis commodi.\"},{\"@id\":\"\\/reviews\\/254c3489-afb7-464f-b686-e3ff7391c247\",\"@type\":\"http:\\/\\/schema.org\\/Review\",\"body\":\"Accusantium dicta laudantium veritatis nesciunt ut fugiat repudiandae. Omnis voluptatum et dolorum at totam voluptatem est. Natus ut ipsa qui. Quaerat culpa corporis quas necessitatibus eius et maxime.\"},{\"@id\":\"\\/reviews\\/97f44dce-0382-4fde-8d04-4a6a47fdf714\",\"@type\":\"http:\\/\\/schema.org\\/Review\",\"body\":\"Debitis et qui pariatur repudiandae nisi quia. A veritatis id iure omnis qui alias reiciendis. Consequuntur dolor similique aliquam ea tenetur voluptatem voluptatem rerum.\"},{\"@id\":\"\\/reviews\\/96626686-ffb2-4852-a5ec-778fddcaa688\",\"@type\":\"http:\\/\\/schema.org\\/Review\",\"body\":\"Facilis dolor corporis aliquid consequuntur alias excepturi. Ut modi delectus eum. Est qui natus incidunt et assumenda qui velit. Impedit odit vero hic quos explicabo adipisci non aperiam.\"}]},{\"@id\":\"\\/books\\/1d52ba85-97c8-4cc3-b81a-40582f3aff64\",\"@type\":\"http:\\/\\/schema.org\\/Book\",\"isbn\":\"9785681004622\",\"title\":\"Sed architecto quod nulla maxime.\",\"description\":\"Inventore esse harum accusantium rerum nulla voluptatem voluptas. Quos sed autem voluptatibus eum aut nesciunt. Sit nisi recusandae eaque molestias sit id labore. Ut voluptatem laudantium perferendis eveniet quam vero.\",\"author\":\"Jolie Lowe\",\"publicationDate\":\"2009-05-16T00:00:00+00:00\",\"reviews\":[{\"@id\":\"\\/reviews\\/2e17783a-8317-4492-8fa1-532f340070f9\",\"@type\":\"http:\\/\\/schema.org\\/Review\",\"body\":\"Provident vero ullam voluptatem dolores quasi quis. Eum rerum quasi excepturi optio. Beatae esse et ex fuga quis. Quod est aliquid aut.\"},{\"@id\":\"\\/reviews\\/8952f6dc-b604-4719-87d1-6e02a7b60c43\",\"@type\":\"http:\\/\\/schema.org\\/Review\",\"body\":\"Distinctio veniam ut corporis dolorem ipsum dolores quam blanditiis. Qui ullam ab sunt quisquam voluptatem id. Sed repudiandae esse cupiditate blanditiis corrupti recusandae. Est id nihil temporibus aliquam.\"},{\"@id\":\"\\/reviews\\/0eeb2199-75a4-4375-b802-7e07f318cc02\",\"@type\":\"http:\\/\\/schema.org\\/Review\",\"body\":\"This is a test\"},{\"@id\":\"\\/reviews\\/59b35f42-4e64-48e3-a558-e58a7eccb6ac\",\"@type\":\"http:\\/\\/schema.org\\/Review\",\"body\":\"Est provident voluptas quod dolore. Porro sit omnis quis autem minima suscipit sunt. Autem consequatur autem sunt velit eveniet voluptas. Illum ab nobis molestiae accusamus sapiente quia iste.\"}]},{\"@id\":\"\\/books\\/1e4ca41f-6a27-404c-9616-fb13f73ddba0\",\"@type\":\"http:\\/\\/schema.org\\/Book\",\"isbn\":\"9791943452827\",\"title\":\"Voluptas doloremque esse dolor qui illo placeat harum voluptatem.\",\"description\":\"Tempora voluptas ut dolorem voluptates. Provident natus ipsam fugiat est ipsam quia. Sint mollitia sed facere qui sit. Ad iusto molestias iusto autem laboriosam nulla earum eius.\",\"author\":\"Miss Gladyce Nader I\",\"publicationDate\":\"1970-10-29T00:00:00+00:00\",\"reviews\":[{\"@id\":\"\\/reviews\\/bc611609-3b8c-4c2f-af60-3e8b237332c9\",\"@type\":\"http:\\/\\/schema.org\\/Review\",\"body\":\"Assumenda pariatur eveniet ut aliquam libero nam perspiciatis. Architecto velit adipisci atque harum laborum sed perspiciatis.\"},{\"@id\":\"\\/reviews\\/bc582bae-08b1-4559-8f7b-dfb88184d29d\",\"@type\":\"http:\\/\\/schema.org\\/Review\",\"body\":\"Corrupti dolores fugiat assumenda tempore molestiae ut quia. Veniam omnis harum tempora porro ea cupiditate quaerat. At repellendus laboriosam enim est eaque et aspernatur.\"},{\"@id\":\"\\/reviews\\/4c4f77a6-e11c-4008-ad0d-fcaa4ae7bf5d\",\"@type\":\"http:\\/\\/schema.org\\/Review\",\"body\":\"Omnis iure eius nam illo possimus corrupti. Maxime neque qui dignissimos quibusdam delectus sapiente rem. Et et tempora non vel possimus sint. At non vel sequi accusantium ut id qui rerum.\"},{\"@id\":\"\\/reviews\\/2852fc35-b451-465d-b623-8169440051bb\",\"@type\":\"http:\\/\\/schema.org\\/Review\",\"body\":\"Voluptate quae autem tempore placeat voluptatem eos est velit. Velit hic magni quisquam consequuntur. Ut omnis eligendi ut voluptas doloremque sed distinctio. Dolorum qui quia a consequatur consequatur veritatis incidunt.\"}]},{\"@id\":\"\\/books\\/2341d608-370d-4c02-bf62-ff7d9e74cd95\",\"@type\":\"http:\\/\\/schema.org\\/Book\",\"isbn\":\"9799164437029\",\"title\":\"Laudantium quod magni non voluptas fuga.\",\"description\":\"Non non explicabo et neque itaque. Quaerat ut aut at consequatur non. In cupiditate voluptas molestiae fuga quod cum.\",\"author\":\"Dr. Delilah Lebsack I\",\"publicationDate\":\"2006-10-31T00:00:00+00:00\",\"reviews\":[{\"@id\":\"\\/reviews\\/979150f7-bf78-4aad-a53e-d90809c5df64\",\"@type\":\"http:\\/\\/schema.org\\/Review\",\"body\":\"Autem mollitia non occaecati explicabo placeat veniam magni. Perspiciatis cupiditate modi totam sit. Quo voluptate voluptas recusandae aperiam ex.\"},{\"@id\":\"\\/reviews\\/687b157a-7156-4d9e-aff8-19a2b6718753\",\"@type\":\"http:\\/\\/schema.org\\/Review\",\"body\":\"Facilis iusto eveniet quis voluptatem quisquam. Praesentium dolores deserunt officiis corporis minima voluptatem. Exercitationem quia deserunt totam ut.\"},{\"@id\":\"\\/reviews\\/a121d366-f237-41bc-970d-4105d46b9dea\",\"@type\":\"http:\\/\\/schema.org\\/Review\",\"body\":\"Consectetur non vel dolore voluptas quas distinctio. Enim voluptas sint consequatur sed. Tenetur deleniti rerum consequatur quo est.\"},{\"@id\":\"\\/reviews\\/8f69bdf5-a7c4-482f-b78b-4dbfdc4c8fd6\",\"@type\":\"http:\\/\\/schema.org\\/Review\",\"body\":\"Cupiditate est inventore esse velit eligendi consequatur. In quos molestiae eum aut optio. Officia sit distinctio aut explicabo quae possimus odit.\"},{\"@id\":\"\\/reviews\\/8846a294-073c-4201-ac24-1ad99feb9d0b\",\"@type\":\"http:\\/\\/schema.org\\/Review\",\"body\":\"Nobis adipisci tempore eos esse facere. Pariatur saepe est amet qui at. Sunt velit vitae et laboriosam magnam. Ab sit ratione at itaque sunt consequatur exercitationem. Quo aut deserunt ea alias quia sequi.\"},{\"@id\":\"\\/reviews\\/b3344e75-9de2-47fe-9816-086666b814a3\",\"@type\":\"http:\\/\\/schema.org\\/Review\",\"body\":\"Unde distinctio officiis fuga quia in. Tempora nemo quaerat quae nesciunt reiciendis ipsa. Voluptates alias dicta repudiandae nihil repellat officia velit.\"},{\"@id\":\"\\/reviews\\/e1378042-e967-40af-b9d2-b45966145598\",\"@type\":\"http:\\/\\/schema.org\\/Review\",\"body\":\"Doloribus tempora necessitatibus id est. Voluptas sit fugit mollitia molestiae enim repellat non quaerat. Aliquid omnis iste culpa reiciendis rerum esse voluptas.\"}]},{\"@id\":\"\\/books\\/27c44cf2-43ea-45bc-a8a7-54e83e984be4\",\"@type\":\"http:\\/\\/schema.org\\/Book\",\"title\":\"sdfs\",\"description\":\"sdfsd\",\"author\":\"sdfsd\",\"publicationDate\":\"2020-01-01T00:00:00+00:00\",\"reviews\":[]},{\"@id\":\"\\/books\\/2a93cbdf-7ade-4de4-bae4-6493662ee6a4\",\"@type\":\"http:\\/\\/schema.org\\/Book\",\"isbn\":\"9794616815288\",\"title\":\"Porro aut corporis quis in quia asperiores sed.\",\"description\":\"Vero excepturi nihil harum sit et nemo rerum. Possimus odit qui voluptatem.\",\"author\":\"Prof. Barbara Larson MD\",\"publicationDate\":\"2003-01-06T00:00:00+00:00\",\"reviews\":[{\"@id\":\"\\/reviews\\/c6a84c1a-c0f6-4590-9bef-d9fbd94346da\",\"@type\":\"http:\\/\\/schema.org\\/Review\",\"body\":\"Voluptatem voluptate placeat dolor nesciunt alias rerum. Dolores non id fugit fugit.\"},{\"@id\":\"\\/reviews\\/5ac666fc-1400-42e1-ade1-23079a96db96\",\"@type\":\"http:\\/\\/schema.org\\/Review\",\"body\":\"Cupiditate expedita tempora ut nam. Omnis placeat minima repudiandae qui. Suscipit odio nobis est ex ut deserunt.\"},{\"@id\":\"\\/reviews\\/ab54958e-6465-414d-bbf6-4445781a1fbe\",\"@type\":\"http:\\/\\/schema.org\\/Review\",\"body\":\"Cupiditate dolorem qui doloribus voluptas. Quidem qui possimus porro accusamus. Incidunt quae id aspernatur voluptas vero repellat saepe.\"}]},{\"@id\":\"\\/books\\/2b054ad2-fd37-44ec-bfe2-405b54b1d47c\",\"@type\":\"http:\\/\\/schema.org\\/Book\",\"isbn\":\"047011519X\",\"title\":\"The italian job\",\"description\":\"python\",\"author\":\"tavo\",\"publicationDate\":\"2020-01-01T00:00:00+00:00\",\"reviews\":[]}],\"hydra:totalItems\":111,\"hydra:view\":{\"@id\":\"\\/books?page=1\",\"@type\":\"hydra:PartialCollectionView\",\"hydra:first\":\"\\/books?page=1\",\"hydra:last\":\"\\/books?page=4\",\"hydra:next\":\"\\/books?page=2\"},\"hydra:search\":{\"@type\":\"hydra:IriTemplate\",\"hydra:template\":\"\\/books{?properties[],order[id],order[title],order[author],order[isbn],order[publicationDate],title,author}\",\"hydra:variableRepresentation\":\"BasicRepresentation\",\"hydra:mapping\":[{\"@type\":\"IriTemplateMapping\",\"variable\":\"properties[]\",\"property\":null,\"required\":false},{\"@type\":\"IriTemplateMapping\",\"variable\":\"order[id]\",\"property\":\"id\",\"required\":false},{\"@type\":\"IriTemplateMapping\",\"variable\":\"order[title]\",\"property\":\"title\",\"required\":false},{\"@type\":\"IriTemplateMapping\",\"variable\":\"order[author]\",\"property\":\"author\",\"required\":false},{\"@type\":\"IriTemplateMapping\",\"variable\":\"order[isbn]\",\"property\":\"isbn\",\"required\":false},{\"@type\":\"IriTemplateMapping\",\"variable\":\"order[publicationDate]\",\"property\":\"publicationDate\",\"required\":false},{\"@type\":\"IriTemplateMapping\",\"variable\":\"title\",\"property\":\"title\",\"required\":false},{\"@type\":\"IriTemplateMapping\",\"variable\":\"author\",\"property\":\"author\",\"required\":false}]}}\n"
     ]
    }
   ],
   "source": [
    "r = requests.get(\"https://demo.api-platform.com/books\")\n",
    "print(r.text)"
   ]
  },
  {
   "cell_type": "markdown",
   "metadata": {},
   "source": [
    "### 1.2. Etape 2 : Lister les 10 premiers books"
   ]
  },
  {
   "cell_type": "code",
   "execution_count": 22,
   "metadata": {},
   "outputs": [],
   "source": [
    "r = requests.get(\"https://demo.api-platform.com/books\")\n",
    "\n",
    "#print(r.json())"
   ]
  },
  {
   "cell_type": "code",
   "execution_count": 24,
   "metadata": {},
   "outputs": [
    {
     "data": {
      "text/plain": [
       "requests.models.Response"
      ]
     },
     "execution_count": 24,
     "metadata": {},
     "output_type": "execute_result"
    }
   ],
   "source": [
    "type(r)"
   ]
  },
  {
   "cell_type": "code",
   "execution_count": 33,
   "metadata": {},
   "outputs": [
    {
     "data": {
      "text/plain": [
       "dict"
      ]
     },
     "execution_count": 33,
     "metadata": {},
     "output_type": "execute_result"
    }
   ],
   "source": [
    "dico = r.json()\n",
    "type(dico)"
   ]
  },
  {
   "cell_type": "code",
   "execution_count": 35,
   "metadata": {},
   "outputs": [],
   "source": [
    "liste = dico.get(\"hydra:member\")"
   ]
  },
  {
   "cell_type": "markdown",
   "metadata": {},
   "source": [
    "extraire les 10 dictionnaires contenus dans la liste"
   ]
  },
  {
   "cell_type": "code",
   "execution_count": 40,
   "metadata": {},
   "outputs": [],
   "source": [
    "liste = liste[0:10]"
   ]
  },
  {
   "cell_type": "code",
   "execution_count": 37,
   "metadata": {},
   "outputs": [
    {
     "name": "stdout",
     "output_type": "stream",
     "text": [
      "[{'@id': '/books/02e4fb87-19b1-4b21-b6d6-bdeb00470ac0', '@type': 'http://schema.org/Book', 'isbn': '9786345594169', 'title': 'New Example mukanihhhsa', 'description': 'Facilis quisquam vero eligendi nemo nisi. Nobis vero sit laborum unde sapiente. Suscipit quisquam et quos non nisi.  bjgfi fyf sy sr yl uh bjh h', 'author': 'Ozella z', 'publicationDate': '2002-10-15T00:00:00+00:00', 'reviews': []}, {'@id': '/books/030075a5-4bc7-4084-a315-5ea304636d45', '@type': 'http://schema.org/Book', 'isbn': '9781802036169', 'title': 'Alias et similique impedit beatae dolores.', 'description': 'Qui voluptas rerum quia et harum dolor quaerat libero. Repellat rerum voluptas dolore. Vero voluptates fugit officiis explicabo. Libero sit ducimus minima.', 'author': 'Ms. Mollie Padbergee', 'publicationDate': '2019-02-01T00:00:00+00:00', 'reviews': [{'@id': '/reviews/4b06547b-b763-45c0-860d-22c1f31398ea', '@type': 'http://schema.org/Review', 'body': 'Eaque et in amet et eius aut dolor. Omnis et inventore doloremque labore laborum rerum. Voluptatibus eos facilis soluta eos quis dolor aut. Quia nemo amet rem vero iusto blanditiis sit.'}, {'@id': '/reviews/57e1bb11-61e7-4068-a78c-fcafa2248ee6', '@type': 'http://schema.org/Review', 'body': 'Et consequuntur aliquid odio est a reiciendis et. Mollitia fugiat placeat ut magnam veritatis consequuntur. Excepturi explicabo est delectus et. Dolore voluptatibus ex et tempora.'}]}, {'@id': '/books/033621ff-16df-4aa3-9de5-36a1045ae147', '@type': 'http://schema.org/Book', 'isbn': '9783977329138', 'title': 'Hic blanditiis ab architecto quas.', 'description': 'Aut facilis dolore doloremque unde fuga nostrum. Dolorem dicta repellendus dolorum fugit dolorem molestiae aut. Enim cupiditate qui dolore nobis in autem dicta. Deserunt perspiciatis ut vel quibusdam.', 'author': 'Caden Halvorson', 'publicationDate': '1995-06-20T00:00:00+00:00', 'reviews': []}, {'@id': '/books/0354ccf0-e4df-4a9a-94e8-08179b7f2385', '@type': 'http://schema.org/Book', 'isbn': '9786074444995', 'title': 'Doloremque aperiam qui rerum accusamus beatae.', 'description': 'Et doloribus voluptatibus perspiciatis quae sapiente. Suscipit doloribus cupiditate dolorem saepe. Quas magni rerum consequatur laudantium nisi quo.', 'author': 'Dr. Helga Tremblay PhD', 'publicationDate': '2008-02-17T00:00:00+00:00', 'reviews': [{'@id': '/reviews/b92d7974-cd3b-49c7-9fef-4ca1e124aa7c', '@type': 'http://schema.org/Review', 'body': 'Fugiat est iure rerum unde autem. Voluptatem voluptatem nihil cupiditate dolores id hic. Ad omnis rerum molestiae autem doloribus quo sit dolorum. Esse voluptatibus repellat corrupti consequuntur voluptatem magnam et.'}]}, {'@id': '/books/05fbf9c4-5fdb-440b-89b1-9da0c00459db', '@type': 'http://schema.org/Book', 'isbn': '9787660207130', 'title': 'Quam occaecati culpa aut in.', 'description': 'Et aut laborum cupiditate corporis aliquid aut cumque. Non qui est maiores aliquid. Autem qui est velit excepturi et necessitatibus tenetur doloremque.', 'author': 'Prof. Lee Blick PhD', 'publicationDate': '1989-05-06T00:00:00+00:00', 'reviews': [{'@id': '/reviews/58e81c9f-b54d-491f-b161-41dcd0fd3df7', '@type': 'http://schema.org/Review', 'body': 'Animi saepe esse aut voluptatibus voluptatem illum eligendi. Et voluptatem quae sed eos nobis eum. Sequi ut exercitationem hic iste.'}, {'@id': '/reviews/84b6f053-2cbf-4384-8fc6-075c7a10df0c', '@type': 'http://schema.org/Review', 'body': 'Voluptate nostrum ut ab voluptatem voluptas quia repellat. Dolores repellat et repellat cumque aut tenetur harum vero. Dolores veritatis perspiciatis aut voluptatem ut reprehenderit quibusdam dolorem. Sed inventore aut voluptatem voluptates.'}, {'@id': '/reviews/29afd3a1-9e94-480c-8ef3-0f0fcf4bf94e', '@type': 'http://schema.org/Review', 'body': 'Consequatur a omnis unde ut. Saepe ullam nam placeat pariatur ratione. Corrupti sint quae velit aut est et repudiandae sint. Tempora harum dolor corrupti eos earum mollitia.'}, {'@id': '/reviews/a80f3167-d026-4ee0-9927-52a2c250c926', '@type': 'http://schema.org/Review', 'body': 'Eum a enim delectus distinctio occaecati voluptate. Eos voluptatem voluptas quaerat suscipit qui. Neque consectetur debitis veritatis ipsam. Placeat soluta iusto doloribus qui est.'}, {'@id': '/reviews/d6ed0cf3-c48d-4414-9595-5f436f2f99cb', '@type': 'http://schema.org/Review', 'body': 'Iusto possimus accusantium fugiat ratione doloremque delectus. Aut nihil neque voluptas neque. Voluptatibus eos sit voluptate voluptatem dolor.'}, {'@id': '/reviews/46263e98-c4d2-4cbe-8419-ee9f2b895e3f', '@type': 'http://schema.org/Review', 'body': 'Rerum veniam nulla nam nisi. Voluptatem eum molestiae quas et sunt. Labore tempora molestias tempore iure et atque autem delectus. Voluptatum et inventore debitis voluptatem.'}, {'@id': '/reviews/b4a11280-1ef0-4cd9-8d99-e79eb904f95a', '@type': 'http://schema.org/Review', 'body': 'Magni officia omnis repellendus sed qui eligendi voluptatum quos. Ea dolore et ea nobis ut quibusdam aut. Ut in ipsum cum eos.'}]}, {'@id': '/books/07234970-21c1-486a-bad0-f7b1ee1db982', '@type': 'http://schema.org/Book', 'isbn': '9785189880940', 'title': 'Amet commodi quia consequuntur quod vel deserunt maiores.', 'description': 'Sit ea consequatur omnis est sint reprehenderit. Quo tempora mollitia dignissimos qui. Recusandae molestias soluta ducimus maiores id non eius.', 'author': 'Florencio Renner', 'publicationDate': '1975-11-30T00:00:00+00:00', 'reviews': [{'@id': '/reviews/79872b67-c92f-4ecf-b816-58b2ed12830d', '@type': 'http://schema.org/Review', 'body': 'Animi sapiente dolor quia. Suscipit voluptas sit rerum. Magni omnis debitis ipsum hic quaerat beatae doloribus. Cupiditate voluptatibus est qui ea qui voluptatem.'}, {'@id': '/reviews/2e1fc159-a2e3-4d48-8d93-e0096b4bbe64', '@type': 'http://schema.org/Review', 'body': 'Qui culpa corporis modi ut. Incidunt exercitationem qui est ut. Quas quibusdam eius ex culpa ut repellendus ut. Temporibus eveniet rem molestiae repudiandae rerum.'}, {'@id': '/reviews/35813e58-874f-45eb-827d-93ebdc5829f0', '@type': 'http://schema.org/Review', 'body': 'Accusantium nisi totam modi quam asperiores. Nisi quia vel voluptas ad. Quidem voluptas libero distinctio non possimus. Et excepturi esse nam consequatur possimus omnis quia. Aliquam pariatur praesentium repudiandae rerum.'}, {'@id': '/reviews/654e7891-f07a-43c7-a6f2-42be2ae5d065', '@type': 'http://schema.org/Review', 'body': 'Ut ipsa sint ducimus. Quia cum ratione reiciendis cumque sunt provident dolorem est.'}, {'@id': '/reviews/4b08dc10-bf75-4124-a70a-75e852d3a42a', '@type': 'http://schema.org/Review', 'body': 'Est nisi soluta omnis omnis. Quis sint voluptatem delectus omnis. Voluptas sapiente distinctio corrupti veritatis.'}]}, {'@id': '/books/07379129-ae1e-411b-837c-eccd1f640c88', '@type': 'http://schema.org/Book', 'isbn': '9796434032946', 'title': 'Et mollitia deleniti qui nostrum.', 'description': 'Aut molestiae sapiente est consequatur. Tempore similique ut debitis consequatur.', 'author': 'Lorine Barrows', 'publicationDate': '1973-07-02T00:00:00+00:00', 'reviews': [{'@id': '/reviews/91cde787-4b84-4a53-9736-f60decc1f44c', '@type': 'http://schema.org/Review', 'body': 'In veritatis sit consequuntur magnam mollitia nam. Adipisci voluptatum a hic excepturi. Dolorem dolor mollitia repellat est autem sunt error.'}, {'@id': '/reviews/a7cd5c82-320d-4305-b153-b4b2261c1bd7', '@type': 'http://schema.org/Review', 'body': 'Aspernatur perferendis ipsa dolorem. Accusamus quos et quas quaerat repudiandae est. Illo quasi atque quod adipisci ut. Autem nam alias temporibus dolorem illo facere veritatis quia. Perferendis laboriosam dignissimos rem et distinctio doloremque.'}, {'@id': '/reviews/d46c1b76-9a75-4065-bd7f-03c5356fb982', '@type': 'http://schema.org/Review', 'body': 'Tempora est tempora sunt fugiat. Quam quis aperiam voluptatem illo ratione et.'}, {'@id': '/reviews/47fefef6-7a88-48ec-b558-2dd76c956ca3', '@type': 'http://schema.org/Review', 'body': 'Similique unde qui amet laboriosam expedita et. Est magni consequatur culpa ipsum.'}, {'@id': '/reviews/d8fbb5ed-ab0c-43a6-a718-bf59af94e548', '@type': 'http://schema.org/Review', 'body': 'Accusamus sit totam odit magni veritatis. In et porro vitae ipsam in amet. Voluptatem in sapiente aperiam laboriosam deserunt. Non distinctio accusantium consequatur ut omnis ratione consequatur.'}]}, {'@id': '/books/07d7233a-03b7-434d-adf8-9e81ecba2cf3', '@type': 'http://schema.org/Book', 'isbn': '9780935905847', 'title': 'Molestias occaecati quo culpa distinctio et consequatur.', 'description': 'Corporis qui dolor sit cumque natus. Neque esse dicta architecto omnis quae consequatur. Est sit beatae quo alias aut.', 'author': 'Kelsie Kulas', 'publicationDate': '1972-09-22T00:00:00+00:00', 'reviews': [{'@id': '/reviews/a5965a28-286e-4dad-b865-f396c186bf91', '@type': 'http://schema.org/Review', 'body': 'Ipsam aliquam voluptatum maiores quidem et dolores ducimus. Facere quis illo corrupti ut nobis voluptatem possimus. Exercitationem veritatis neque ut nisi rerum numquam voluptatem. Qui aliquam rerum doloribus officia voluptates nihil nostrum voluptatem.'}, {'@id': '/reviews/e3e7489b-a940-43e7-9ae4-a8376fe8e8e0', '@type': 'http://schema.org/Review', 'body': 'Dolorum libero ut provident qui. Ut nam provident porro earum voluptatem et autem laborum. Placeat provident adipisci deserunt pariatur repudiandae sit dolorem et.'}, {'@id': '/reviews/c819fec3-1bf8-4b11-b6cb-6bbeb60b0ccc', '@type': 'http://schema.org/Review', 'body': 'Neque magni quia occaecati repellat voluptas. Aut ea ipsum ad dignissimos et. Asperiores non aut fuga aut. Reprehenderit aut odio non quia officiis accusamus.'}, {'@id': '/reviews/457b5f03-4a33-49f0-89ef-e157c9ca1d55', '@type': 'http://schema.org/Review', 'body': 'Quis ratione voluptate qui ut libero. Illum est sunt et. Quaerat ut illo voluptatum quo rerum quisquam consequuntur. Consequuntur natus aut et et quas et id.'}]}, {'@id': '/books/08c7d827-9fff-4f75-a886-7618d8d0a9ca', '@type': 'http://schema.org/Book', 'isbn': '9793108107627', 'title': 'Et maiores laboriosam qui pariatur.', 'description': 'Architecto consequatur animi et nulla voluptate iste enim. Architecto aliquid amet eveniet voluptatem. Vero tempore odit commodi aut culpa totam. Facere sit et voluptatum suscipit aut dolores.', 'author': 'Tobin Hyatt', 'publicationDate': '1996-08-19T00:00:00+00:00', 'reviews': [{'@id': '/reviews/9acb1299-e636-4a65-93e1-dfaf9a7ff3d4', '@type': 'http://schema.org/Review', 'body': 'Ut magni voluptatem maiores quia perferendis ut repudiandae. Molestiae molestiae et consequatur neque. Praesentium assumenda reiciendis consectetur quo incidunt provident. Est ipsam qui fuga doloremque.'}]}, {'@id': '/books/09319e88-899b-434d-b879-304483c78122', '@type': 'http://schema.org/Book', 'isbn': '9791891164452', 'title': 'Cupiditate a eum natus officia laudantium recusandae aliquam.', 'description': 'Qui vitae enim et explicabo possimus nesciunt voluptatibus. Officia fugit iste et et. Totam repellendus provident voluptatem.', 'author': 'Percival Toy', 'publicationDate': '2017-06-20T00:00:00+00:00', 'reviews': [{'@id': '/reviews/3b1a339a-ccf2-4d6a-a3d3-c6e065a97d95', '@type': 'http://schema.org/Review', 'body': 'Qui voluptatem beatae quia accusamus et libero. Officia voluptatibus qui molestias temporibus.'}, {'@id': '/reviews/c1f60bd8-be20-407c-ae0a-d58a94b1eb7f', '@type': 'http://schema.org/Review', 'body': 'Accusamus odit exercitationem recusandae ut sit rerum. Veniam sit aliquid impedit natus. Sit perspiciatis harum enim ut harum. Debitis sit iste consequatur dolores voluptate nulla magnam.'}]}]\n"
     ]
    }
   ],
   "source": [
    "print(liste)"
   ]
  },
  {
   "cell_type": "code",
   "execution_count": 54,
   "metadata": {},
   "outputs": [
    {
     "data": {
      "text/plain": [
       "10"
      ]
     },
     "execution_count": 54,
     "metadata": {},
     "output_type": "execute_result"
    }
   ],
   "source": [
    "len(liste)"
   ]
  },
  {
   "cell_type": "markdown",
   "metadata": {},
   "source": [
    "### 1.3 Etape 3 : Afficher le titre des 10 livres"
   ]
  },
  {
   "cell_type": "code",
   "execution_count": 60,
   "metadata": {},
   "outputs": [
    {
     "name": "stdout",
     "output_type": "stream",
     "text": [
      "title  :  New Example mukanihhhsa\n",
      "title  :  Alias et similique impedit beatae dolores.\n",
      "title  :  Hic blanditiis ab architecto quas.\n",
      "title  :  Doloremque aperiam qui rerum accusamus beatae.\n",
      "title  :  Quam occaecati culpa aut in.\n",
      "title  :  Amet commodi quia consequuntur quod vel deserunt maiores.\n",
      "title  :  Et mollitia deleniti qui nostrum.\n",
      "title  :  Molestias occaecati quo culpa distinctio et consequatur.\n",
      "title  :  Et maiores laboriosam qui pariatur.\n",
      "title  :  Cupiditate a eum natus officia laudantium recusandae aliquam.\n"
     ]
    }
   ],
   "source": [
    "for i in range(len(liste)):\n",
    "    for k, v in liste[i].items():\n",
    "        if k == 'title':\n",
    "            print(k, ' : ', v)"
   ]
  },
  {
   "cell_type": "markdown",
   "metadata": {},
   "source": [
    "### 1.4 Etape 3 : Lister les 10 derniers livres par leur date de publication"
   ]
  },
  {
   "cell_type": "code",
   "execution_count": null,
   "metadata": {},
   "outputs": [],
   "source": []
  },
  {
   "cell_type": "markdown",
   "metadata": {},
   "source": [
    "## Tests"
   ]
  },
  {
   "cell_type": "code",
   "execution_count": 15,
   "metadata": {},
   "outputs": [
    {
     "data": {
      "text/plain": [
       "405"
      ]
     },
     "execution_count": 15,
     "metadata": {},
     "output_type": "execute_result"
    }
   ],
   "source": [
    "r.status_code"
   ]
  },
  {
   "cell_type": "code",
   "execution_count": 16,
   "metadata": {},
   "outputs": [
    {
     "ename": "AttributeError",
     "evalue": "'Response' object has no attribute 'headersv'",
     "output_type": "error",
     "traceback": [
      "\u001b[1;31m---------------------------------------------------------------------------\u001b[0m",
      "\u001b[1;31mAttributeError\u001b[0m                            Traceback (most recent call last)",
      "\u001b[1;32m<ipython-input-16-be862f899873>\u001b[0m in \u001b[0;36m<module>\u001b[1;34m\u001b[0m\n\u001b[1;32m----> 1\u001b[1;33m \u001b[0mr\u001b[0m\u001b[1;33m.\u001b[0m\u001b[0mheadersv\u001b[0m\u001b[1;33m\u001b[0m\u001b[1;33m\u001b[0m\u001b[0m\n\u001b[0m",
      "\u001b[1;31mAttributeError\u001b[0m: 'Response' object has no attribute 'headersv'"
     ]
    }
   ],
   "source": [
    "r.headersv"
   ]
  },
  {
   "cell_type": "markdown",
   "metadata": {},
   "source": [
    "## 2. Lister le livre écrit par l’auteur « Dr. Kaitlyn Ratke »"
   ]
  },
  {
   "cell_type": "code",
   "execution_count": 62,
   "metadata": {},
   "outputs": [],
   "source": [
    "auteur = requests.get(\"https://demo.api-platform.com/books/?author=Dr.%20Kaitlyn%20Ratke\")\n",
    "#print(r.text)"
   ]
  },
  {
   "cell_type": "code",
   "execution_count": 63,
   "metadata": {},
   "outputs": [],
   "source": [
    "dico_auteur = auteur.json()"
   ]
  },
  {
   "cell_type": "code",
   "execution_count": 64,
   "metadata": {},
   "outputs": [],
   "source": [
    "liste_auteur = dico_auteur.get(\"hydra:member\")"
   ]
  },
  {
   "cell_type": "code",
   "execution_count": 65,
   "metadata": {},
   "outputs": [],
   "source": [
    "#print(liste_auteur)"
   ]
  },
  {
   "cell_type": "code",
   "execution_count": 66,
   "metadata": {},
   "outputs": [
    {
     "data": {
      "text/plain": [
       "1"
      ]
     },
     "execution_count": 66,
     "metadata": {},
     "output_type": "execute_result"
    }
   ],
   "source": [
    "len(liste_auteur)"
   ]
  },
  {
   "cell_type": "markdown",
   "metadata": {},
   "source": [
    "### Afficher les titres des livres de l'auteur"
   ]
  },
  {
   "cell_type": "code",
   "execution_count": 67,
   "metadata": {},
   "outputs": [
    {
     "name": "stdout",
     "output_type": "stream",
     "text": [
      "title  :  Similique aut est dolores.\n"
     ]
    }
   ],
   "source": [
    "for i in range(len(liste_auteur)):\n",
    "    for k, v in liste_auteur[i].items():\n",
    "        if k == 'title':\n",
    "            print(k, ' : ', v)"
   ]
  },
  {
   "cell_type": "markdown",
   "metadata": {},
   "source": [
    "## 3. Lister tous les commentaires du livre dont l’id est « 1d52ba85-97c8-4cc3-b81a-40582f3aff64 »"
   ]
  },
  {
   "cell_type": "markdown",
   "metadata": {},
   "source": [
    "### 3.1. Etape 1 : toutes les données du livre"
   ]
  },
  {
   "cell_type": "code",
   "execution_count": 69,
   "metadata": {},
   "outputs": [],
   "source": [
    "livre = requests.get(\"https://demo.api-platform.com/books/1d52ba85-97c8-4cc3-b81a-40582f3aff64\")\n",
    "#print(livre.text)"
   ]
  },
  {
   "cell_type": "code",
   "execution_count": 70,
   "metadata": {},
   "outputs": [],
   "source": [
    "dico_livre = livre.json()"
   ]
  },
  {
   "cell_type": "code",
   "execution_count": 80,
   "metadata": {},
   "outputs": [],
   "source": [
    "#print(dico_livre)"
   ]
  },
  {
   "cell_type": "markdown",
   "metadata": {},
   "source": [
    "### liste de toutes les données associées aux commentaires du libre"
   ]
  },
  {
   "cell_type": "code",
   "execution_count": 76,
   "metadata": {},
   "outputs": [],
   "source": [
    "liste_comment = dico_livre.get('reviews')"
   ]
  },
  {
   "cell_type": "code",
   "execution_count": 81,
   "metadata": {},
   "outputs": [],
   "source": [
    "#print(liste_comment)"
   ]
  },
  {
   "cell_type": "markdown",
   "metadata": {},
   "source": [
    "### Liste des contenus des commentaires du livre"
   ]
  },
  {
   "cell_type": "code",
   "execution_count": 82,
   "metadata": {},
   "outputs": [
    {
     "name": "stdout",
     "output_type": "stream",
     "text": [
      "Provident vero ullam voluptatem dolores quasi quis. Eum rerum quasi excepturi optio. Beatae esse et ex fuga quis. Quod est aliquid aut.\n",
      "Est provident voluptas quod dolore. Porro sit omnis quis autem minima suscipit sunt. Autem consequatur autem sunt velit eveniet voluptas. Illum ab nobis molestiae accusamus sapiente quia iste.\n",
      "Distinctio veniam ut corporis dolorem ipsum dolores quam blanditiis. Qui ullam ab sunt quisquam voluptatem id. Sed repudiandae esse cupiditate blanditiis corrupti recusandae. Est id nihil temporibus aliquam.\n",
      "This is a test\n"
     ]
    }
   ],
   "source": [
    "for i in range(len(liste_comment)):\n",
    "    for k, v in liste_comment[i].items():\n",
    "        if k == 'body':\n",
    "            print(v)"
   ]
  },
  {
   "cell_type": "markdown",
   "metadata": {},
   "source": [
    "### 3. Solution 2 : recupérer directement les commentaires du livre (pas toutes les données)"
   ]
  },
  {
   "cell_type": "code",
   "execution_count": 83,
   "metadata": {},
   "outputs": [],
   "source": [
    "liste_comment2 = requests.get(\"https://demo.api-platform.com/books/1d52ba85-97c8-4cc3-b81a-40582f3aff64/reviews\")\n",
    "#print(liste_comment2.text)"
   ]
  },
  {
   "cell_type": "markdown",
   "metadata": {},
   "source": [
    "## 4. Créer un nouveau commentaire avec le texte et la note de votre choix pour le livre dont l’id est « 1b08c9ab-6254-4015-ad14-bac3e5c008df »"
   ]
  },
  {
   "cell_type": "code",
   "execution_count": 84,
   "metadata": {},
   "outputs": [],
   "source": [
    "data = {\n",
    "  \"body\": \"mon deuxième commentaire : A pisser contre le vent, on mouille sa chemise\",\n",
    "  \"rating\": 1,\n",
    "  \"author\": \"DROMZ\",\n",
    "  \"publicationDate\": \"2020-01-09T13:41:12.009Z\",\n",
    "  \"book\": \"books/1b08c9ab-6254-4015-ad14-bac3e5c008df\"\n",
    "  }\n",
    "r = requests.post(\"https://demo.api-platform.com/reviews\", data = data)"
   ]
  },
  {
   "cell_type": "markdown",
   "metadata": {},
   "source": [
    "### verif si commentaire publié"
   ]
  },
  {
   "cell_type": "code",
   "execution_count": 87,
   "metadata": {},
   "outputs": [],
   "source": [
    "livre2 = requests.get(\"https://demo.api-platform.com/books/1b08c9ab-6254-4015-ad14-bac3e5c008df\")\n",
    "#print(comments.text)"
   ]
  },
  {
   "cell_type": "code",
   "execution_count": 96,
   "metadata": {},
   "outputs": [],
   "source": [
    "dico_livre2 = comments.json()"
   ]
  },
  {
   "cell_type": "code",
   "execution_count": 97,
   "metadata": {},
   "outputs": [
    {
     "data": {
      "text/plain": [
       "dict"
      ]
     },
     "execution_count": 97,
     "metadata": {},
     "output_type": "execute_result"
    }
   ],
   "source": [
    "type(dico_comments)"
   ]
  },
  {
   "cell_type": "code",
   "execution_count": 98,
   "metadata": {},
   "outputs": [],
   "source": [
    "list_coment_l2 = dico_livre2.get('reviews')"
   ]
  },
  {
   "cell_type": "code",
   "execution_count": 100,
   "metadata": {},
   "outputs": [
    {
     "data": {
      "text/plain": [
       "NoneType"
      ]
     },
     "execution_count": 100,
     "metadata": {},
     "output_type": "execute_result"
    }
   ],
   "source": [
    "type(list_coment_l2)"
   ]
  },
  {
   "cell_type": "code",
   "execution_count": 99,
   "metadata": {},
   "outputs": [
    {
     "ename": "TypeError",
     "evalue": "object of type 'NoneType' has no len()",
     "output_type": "error",
     "traceback": [
      "\u001b[1;31m---------------------------------------------------------------------------\u001b[0m",
      "\u001b[1;31mTypeError\u001b[0m                                 Traceback (most recent call last)",
      "\u001b[1;32m<ipython-input-99-835c027981c4>\u001b[0m in \u001b[0;36m<module>\u001b[1;34m\u001b[0m\n\u001b[1;32m----> 1\u001b[1;33m \u001b[1;32mfor\u001b[0m \u001b[0mi\u001b[0m \u001b[1;32min\u001b[0m \u001b[0mrange\u001b[0m\u001b[1;33m(\u001b[0m\u001b[0mlen\u001b[0m\u001b[1;33m(\u001b[0m\u001b[0mlist_coment_l2\u001b[0m\u001b[1;33m)\u001b[0m\u001b[1;33m)\u001b[0m\u001b[1;33m:\u001b[0m\u001b[1;33m\u001b[0m\u001b[1;33m\u001b[0m\u001b[0m\n\u001b[0m\u001b[0;32m      2\u001b[0m     \u001b[1;32mfor\u001b[0m \u001b[0mk\u001b[0m\u001b[1;33m,\u001b[0m \u001b[0mv\u001b[0m \u001b[1;32min\u001b[0m \u001b[0mlist_coment_l2\u001b[0m\u001b[1;33m[\u001b[0m\u001b[0mi\u001b[0m\u001b[1;33m]\u001b[0m\u001b[1;33m.\u001b[0m\u001b[0mitems\u001b[0m\u001b[1;33m(\u001b[0m\u001b[1;33m)\u001b[0m\u001b[1;33m:\u001b[0m\u001b[1;33m\u001b[0m\u001b[1;33m\u001b[0m\u001b[0m\n\u001b[0;32m      3\u001b[0m         \u001b[1;32mif\u001b[0m \u001b[0mk\u001b[0m \u001b[1;33m==\u001b[0m \u001b[1;34m'body'\u001b[0m\u001b[1;33m:\u001b[0m\u001b[1;33m\u001b[0m\u001b[1;33m\u001b[0m\u001b[0m\n\u001b[0;32m      4\u001b[0m             \u001b[0mprint\u001b[0m\u001b[1;33m(\u001b[0m\u001b[0mv\u001b[0m\u001b[1;33m)\u001b[0m\u001b[1;33m\u001b[0m\u001b[1;33m\u001b[0m\u001b[0m\n",
      "\u001b[1;31mTypeError\u001b[0m: object of type 'NoneType' has no len()"
     ]
    }
   ],
   "source": [
    "for i in range(len(list_coment_l2)):\n",
    "    for k, v in list_coment_l2[i].items():\n",
    "        if k == 'body':\n",
    "            print(v)"
   ]
  },
  {
   "cell_type": "markdown",
   "metadata": {},
   "source": [
    "## 5. Modifier votre nouveau commentaire en utilisant l’id qui vous a été fourni lors de sa création"
   ]
  },
  {
   "cell_type": "code",
   "execution_count": null,
   "metadata": {},
   "outputs": [],
   "source": []
  }
 ],
 "metadata": {
  "kernelspec": {
   "display_name": "Python 3",
   "language": "python",
   "name": "python3"
  },
  "language_info": {
   "codemirror_mode": {
    "name": "ipython",
    "version": 3
   },
   "file_extension": ".py",
   "mimetype": "text/x-python",
   "name": "python",
   "nbconvert_exporter": "python",
   "pygments_lexer": "ipython3",
   "version": "3.7.5"
  }
 },
 "nbformat": 4,
 "nbformat_minor": 2
}
