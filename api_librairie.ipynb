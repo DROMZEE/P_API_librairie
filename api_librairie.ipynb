{
 "cells": [
  {
   "cell_type": "markdown",
   "metadata": {},
   "source": [
    "# Projet librairie"
   ]
  },
  {
   "cell_type": "code",
   "execution_count": 2,
   "metadata": {},
   "outputs": [],
   "source": [
    "import requests"
   ]
  },
  {
   "cell_type": "markdown",
   "metadata": {},
   "source": [
    "* https://2.python-requests.org/en/master/\n",
    "* api : https://demo.api-platform.com/"
   ]
  },
  {
   "cell_type": "markdown",
   "metadata": {},
   "source": [
    "## 1. Lister les 10 derniers livres par leur date de publication"
   ]
  },
  {
   "cell_type": "markdown",
   "metadata": {},
   "source": [
    "### 1.1. Etape 1 : Lister tous les books"
   ]
  },
  {
   "cell_type": "markdown",
   "metadata": {},
   "source": [
    "requete avec classement par date (les plus rescents t premier)"
   ]
  },
  {
   "cell_type": "code",
   "execution_count": 30,
   "metadata": {},
   "outputs": [],
   "source": [
    "url = 'https://demo.api-platform.com/books?order[publicationDate]=desc&page=1'\n",
    "r_books = requests.get(url)\n",
    "#print(books.text)"
   ]
  },
  {
   "cell_type": "code",
   "execution_count": 31,
   "metadata": {},
   "outputs": [
    {
     "data": {
      "text/plain": [
       "requests.models.Response"
      ]
     },
     "execution_count": 31,
     "metadata": {},
     "output_type": "execute_result"
    }
   ],
   "source": [
    "type(r_books)"
   ]
  },
  {
   "cell_type": "code",
   "execution_count": 41,
   "metadata": {},
   "outputs": [
    {
     "data": {
      "text/plain": [
       "200"
      ]
     },
     "execution_count": 41,
     "metadata": {},
     "output_type": "execute_result"
    }
   ],
   "source": [
    "r_books.status_code"
   ]
  },
  {
   "cell_type": "markdown",
   "metadata": {},
   "source": [
    "On enregistre la réponse de requête au format json dans un dictionnaire"
   ]
  },
  {
   "cell_type": "code",
   "execution_count": 32,
   "metadata": {},
   "outputs": [],
   "source": [
    "dico_books = r_books.json()"
   ]
  },
  {
   "cell_type": "code",
   "execution_count": 33,
   "metadata": {},
   "outputs": [
    {
     "data": {
      "text/plain": [
       "dict"
      ]
     },
     "execution_count": 33,
     "metadata": {},
     "output_type": "execute_result"
    }
   ],
   "source": [
    "type(dico_books)"
   ]
  },
  {
   "cell_type": "markdown",
   "metadata": {},
   "source": [
    "On créé une liste de dictionnaires contenat uniquement les ebooks via la clé \"hydra:member\""
   ]
  },
  {
   "cell_type": "code",
   "execution_count": 34,
   "metadata": {},
   "outputs": [],
   "source": [
    "liste_books = dico_books.get(\"hydra:member\")"
   ]
  },
  {
   "cell_type": "code",
   "execution_count": 35,
   "metadata": {},
   "outputs": [
    {
     "data": {
      "text/plain": [
       "30"
      ]
     },
     "execution_count": 35,
     "metadata": {},
     "output_type": "execute_result"
    }
   ],
   "source": [
    "len(liste_books)"
   ]
  },
  {
   "cell_type": "code",
   "execution_count": 158,
   "metadata": {},
   "outputs": [],
   "source": [
    "#print('Title: ' + dico_books['title'])"
   ]
  },
  {
   "cell_type": "markdown",
   "metadata": {},
   "source": [
    "### 1.2. Etape 2 : Afficher le titre des 10 livres"
   ]
  },
  {
   "cell_type": "markdown",
   "metadata": {},
   "source": [
    "extraire les 10 dictionnaires contenus dans la liste"
   ]
  },
  {
   "cell_type": "code",
   "execution_count": 59,
   "metadata": {},
   "outputs": [],
   "source": [
    "lst_10_books = liste_books[0:10]"
   ]
  },
  {
   "cell_type": "code",
   "execution_count": 60,
   "metadata": {},
   "outputs": [],
   "source": [
    "#print(liste_books)"
   ]
  },
  {
   "cell_type": "code",
   "execution_count": 61,
   "metadata": {},
   "outputs": [
    {
     "data": {
      "text/plain": [
       "10"
      ]
     },
     "execution_count": 61,
     "metadata": {},
     "output_type": "execute_result"
    }
   ],
   "source": [
    "len(lst_10_books)"
   ]
  },
  {
   "cell_type": "markdown",
   "metadata": {},
   "source": [
    "afficher uniquement la date de publication et le titre"
   ]
  },
  {
   "cell_type": "code",
   "execution_count": 65,
   "metadata": {},
   "outputs": [
    {
     "name": "stdout",
     "output_type": "stream",
     "text": [
      "2020-01-08  :  demotitle\n",
      "2020-01-01  :  sdfs\n",
      "2020-01-01  :  The italian job\n",
      "2020-01-01  :  TestBook123\n",
      "2019-12-20  :  Est magnam ut nemo.\n",
      "2019-12-11  :  sdf\n",
      "2019-12-01  :  booktes\n",
      "2019-03-15  :  HelloWorld\n",
      "2019-03-03  :  aoskdasodk\n",
      "2019-02-01  :  Alias et similique impedit beatae dolores.\n"
     ]
    }
   ],
   "source": [
    "for i in range(len(lst_10_books)):\n",
    "    for k, v in lst_10_books[i].items():\n",
    "        if k == 'title':\n",
    "            t = v\n",
    "        if k == 'publicationDate':\n",
    "            d = v\n",
    "            d = d[0:10]\n",
    "            print(d, ' : ', t)"
   ]
  },
  {
   "cell_type": "markdown",
   "metadata": {},
   "source": [
    "## 2. Lister le livre écrit par l’auteur « Dr. Kaitlyn Ratke »"
   ]
  },
  {
   "cell_type": "code",
   "execution_count": 66,
   "metadata": {},
   "outputs": [],
   "source": [
    "r_auteur = requests.get(\"https://demo.api-platform.com/books/?author=Dr.%20Kaitlyn%20Ratke\")\n",
    "#print(r.text)"
   ]
  },
  {
   "cell_type": "code",
   "execution_count": 68,
   "metadata": {},
   "outputs": [],
   "source": [
    "dico_auteur = r_auteur.json()"
   ]
  },
  {
   "cell_type": "code",
   "execution_count": 69,
   "metadata": {},
   "outputs": [],
   "source": [
    "lst_books_auteur = dico_auteur.get(\"hydra:member\")"
   ]
  },
  {
   "cell_type": "code",
   "execution_count": 70,
   "metadata": {},
   "outputs": [
    {
     "data": {
      "text/plain": [
       "list"
      ]
     },
     "execution_count": 70,
     "metadata": {},
     "output_type": "execute_result"
    }
   ],
   "source": [
    "type(lst_books_auteur)"
   ]
  },
  {
   "cell_type": "code",
   "execution_count": 71,
   "metadata": {},
   "outputs": [],
   "source": [
    "#print(lst_books_auteur)"
   ]
  },
  {
   "cell_type": "code",
   "execution_count": 72,
   "metadata": {},
   "outputs": [
    {
     "data": {
      "text/plain": [
       "1"
      ]
     },
     "execution_count": 72,
     "metadata": {},
     "output_type": "execute_result"
    }
   ],
   "source": [
    "len(lst_books_auteur)"
   ]
  },
  {
   "cell_type": "markdown",
   "metadata": {},
   "source": [
    "### Afficher les titres des livres de l'auteur"
   ]
  },
  {
   "cell_type": "code",
   "execution_count": 75,
   "metadata": {},
   "outputs": [
    {
     "name": "stdout",
     "output_type": "stream",
     "text": [
      "1997-07-04  :  Similique aut est dolores.\n"
     ]
    }
   ],
   "source": [
    "for i in range(len(lst_books_auteur)):\n",
    "    for k, v in lst_books_auteur[i].items():\n",
    "        if k == 'title':\n",
    "            t = v\n",
    "        if k == 'publicationDate':\n",
    "            d = v\n",
    "            d = d[0:10]\n",
    "    print(d, ' : ', t)"
   ]
  },
  {
   "cell_type": "markdown",
   "metadata": {},
   "source": [
    "## 3. Lister tous les commentaires du livre dont l’id est « 1d52ba85-97c8-4cc3-b81a-40582f3aff64 »"
   ]
  },
  {
   "cell_type": "markdown",
   "metadata": {},
   "source": [
    "### 3.1. Etape 1 : toutes les données du livre"
   ]
  },
  {
   "cell_type": "code",
   "execution_count": 76,
   "metadata": {},
   "outputs": [],
   "source": [
    "livre = requests.get(\"https://demo.api-platform.com/books/1d52ba85-97c8-4cc3-b81a-40582f3aff64\")\n",
    "#print(livre.text)"
   ]
  },
  {
   "cell_type": "code",
   "execution_count": 77,
   "metadata": {},
   "outputs": [],
   "source": [
    "dico_livre = livre.json()"
   ]
  },
  {
   "cell_type": "code",
   "execution_count": 78,
   "metadata": {},
   "outputs": [],
   "source": [
    "#print(dico_livre)"
   ]
  },
  {
   "cell_type": "markdown",
   "metadata": {},
   "source": [
    "### liste de toutes les données associées aux commentaires du libre"
   ]
  },
  {
   "cell_type": "code",
   "execution_count": 82,
   "metadata": {},
   "outputs": [],
   "source": [
    "liste_comments = dico_livre.get('reviews')"
   ]
  },
  {
   "cell_type": "code",
   "execution_count": 83,
   "metadata": {},
   "outputs": [],
   "source": [
    "#print(liste_comments)"
   ]
  },
  {
   "cell_type": "code",
   "execution_count": 84,
   "metadata": {},
   "outputs": [
    {
     "data": {
      "text/plain": [
       "4"
      ]
     },
     "execution_count": 84,
     "metadata": {},
     "output_type": "execute_result"
    }
   ],
   "source": [
    "len(liste_comments)"
   ]
  },
  {
   "cell_type": "markdown",
   "metadata": {},
   "source": [
    "### Liste des contenus des commentaires du livre"
   ]
  },
  {
   "cell_type": "code",
   "execution_count": 85,
   "metadata": {},
   "outputs": [
    {
     "name": "stdout",
     "output_type": "stream",
     "text": [
      "Provident vero ullam voluptatem dolores quasi quis. Eum rerum quasi excepturi optio. Beatae esse et ex fuga quis. Quod est aliquid aut.\n",
      "Est provident voluptas quod dolore. Porro sit omnis quis autem minima suscipit sunt. Autem consequatur autem sunt velit eveniet voluptas. Illum ab nobis molestiae accusamus sapiente quia iste.\n",
      "Distinctio veniam ut corporis dolorem ipsum dolores quam blanditiis. Qui ullam ab sunt quisquam voluptatem id. Sed repudiandae esse cupiditate blanditiis corrupti recusandae. Est id nihil temporibus aliquam.\n",
      "This is a test\n"
     ]
    }
   ],
   "source": [
    "for i in range(len(liste_comments)):\n",
    "    for k, v in liste_comments[i].items():\n",
    "        if k == 'body':\n",
    "            print(v)"
   ]
  },
  {
   "cell_type": "markdown",
   "metadata": {},
   "source": [
    "voir améioration plus bas : affichage de l'auteur du commentaire (en plus du commentaire)"
   ]
  },
  {
   "cell_type": "markdown",
   "metadata": {},
   "source": [
    "### 3. Solution 2 : recupérer directement les commentaires du livre (pas toutes les données)"
   ]
  },
  {
   "cell_type": "code",
   "execution_count": 126,
   "metadata": {},
   "outputs": [],
   "source": [
    "liste_comments2 = requests.get(\"https://demo.api-platform.com/books/1d52ba85-97c8-4cc3-b81a-40582f3aff64/reviews\")\n",
    "#print(liste_comment2.text)"
   ]
  },
  {
   "cell_type": "markdown",
   "metadata": {},
   "source": [
    "## 4. Créer un nouveau commentaire avec le texte et la note de votre choix pour le livre dont l’id est « 1b08c9ab-6254-4015-ad14-bac3e5c008df »"
   ]
  },
  {
   "cell_type": "code",
   "execution_count": 180,
   "metadata": {},
   "outputs": [],
   "source": [
    "data = {\n",
    "  \"body\": \"Le fossé séparant théorie et pratique est moins large en théorie qu’il ne l’est en pratique\",\n",
    "  \"rating\": 1,\n",
    "  \"author\": \"DROMZ\",\n",
    "  \"book\": \"books/1b08c9ab-6254-4015-ad14-bac3e5c008df\"}\n",
    "r_post_cmt = requests.post(\"https://demo.api-platform.com/reviews\", json = data)"
   ]
  },
  {
   "cell_type": "markdown",
   "metadata": {},
   "source": [
    "recuperation de l'id du post créé"
   ]
  },
  {
   "cell_type": "code",
   "execution_count": 186,
   "metadata": {},
   "outputs": [],
   "source": [
    "#print(r_post_cmt.text)"
   ]
  },
  {
   "cell_type": "code",
   "execution_count": 182,
   "metadata": {},
   "outputs": [],
   "source": [
    "dico_post_cmt = r_post_cmt.json()"
   ]
  },
  {
   "cell_type": "code",
   "execution_count": 183,
   "metadata": {},
   "outputs": [
    {
     "name": "stdout",
     "output_type": "stream",
     "text": [
      "{'@context': '/contexts/Review', '@id': '/reviews/b04ed314-c1b1-42ae-958e-99c1c00e7645', '@type': 'http://schema.org/Review', 'body': 'Le fossé séparant théorie et pratique est moins large en théorie qu’il ne l’est en pratique', 'rating': 1, 'book': {'@id': '/books/1b08c9ab-6254-4015-ad14-bac3e5c008df', '@type': 'http://schema.org/Book', 'title': 'Et sit enim omnis.'}, 'author': 'DROMZ'}\n"
     ]
    }
   ],
   "source": [
    "print(dico_post_cmt)"
   ]
  },
  {
   "cell_type": "code",
   "execution_count": 184,
   "metadata": {},
   "outputs": [],
   "source": [
    "post_id = dico_post_cmt.get('@id')"
   ]
  },
  {
   "cell_type": "code",
   "execution_count": 185,
   "metadata": {},
   "outputs": [
    {
     "name": "stdout",
     "output_type": "stream",
     "text": [
      "/reviews/b04ed314-c1b1-42ae-958e-99c1c00e7645\n"
     ]
    }
   ],
   "source": [
    "print(post_id)"
   ]
  },
  {
   "cell_type": "markdown",
   "metadata": {},
   "source": [
    "### verif si commentaire publié"
   ]
  },
  {
   "cell_type": "code",
   "execution_count": 227,
   "metadata": {},
   "outputs": [],
   "source": [
    "livre2 = requests.get(\"https://demo.api-platform.com/books/1b08c9ab-6254-4015-ad14-bac3e5c008df\")\n",
    "#print(comments.text)"
   ]
  },
  {
   "cell_type": "code",
   "execution_count": 228,
   "metadata": {},
   "outputs": [],
   "source": [
    "dico_livre2 = livre2.json()"
   ]
  },
  {
   "cell_type": "code",
   "execution_count": 229,
   "metadata": {},
   "outputs": [
    {
     "data": {
      "text/plain": [
       "dict"
      ]
     },
     "execution_count": 229,
     "metadata": {},
     "output_type": "execute_result"
    }
   ],
   "source": [
    "type(dico_livre2)"
   ]
  },
  {
   "cell_type": "code",
   "execution_count": 230,
   "metadata": {},
   "outputs": [],
   "source": [
    "lst_comments_l2 = dico_livre2.get('reviews')"
   ]
  },
  {
   "cell_type": "code",
   "execution_count": 231,
   "metadata": {},
   "outputs": [
    {
     "data": {
      "text/plain": [
       "list"
      ]
     },
     "execution_count": 231,
     "metadata": {},
     "output_type": "execute_result"
    }
   ],
   "source": [
    "type(lst_comments_l2)"
   ]
  },
  {
   "cell_type": "code",
   "execution_count": 232,
   "metadata": {},
   "outputs": [],
   "source": [
    "#print(lst_comments_l2)"
   ]
  },
  {
   "cell_type": "markdown",
   "metadata": {},
   "source": [
    "liste des commentaires"
   ]
  },
  {
   "cell_type": "code",
   "execution_count": 233,
   "metadata": {},
   "outputs": [
    {
     "name": "stdout",
     "output_type": "stream",
     "text": [
      "Quas sunt laboriosam accusantium amet. Id et ea voluptate inventore sed aut. Mollitia minus laudantium numquam non quibusdam qui iusto modi.\n",
      "Et doloribus maxime ratione odit et eum. Autem consequatur eos beatae. Accusantium vitae molestias vitae aperiam quibusdam. Dicta blanditiis deserunt enim architecto blanditiis quaerat.\n",
      "Quae sunt totam modi sit quae. Nesciunt et reprehenderit similique beatae explicabo possimus sit. Ipsam mollitia ad voluptas enim sed.\n",
      "Est sapiente rerum quis magni ex assumenda occaecati molestiae. Atque exercitationem et aut voluptatibus vitae. Ipsum quo alias laudantium molestias omnis quam. Modi enim sapiente quis quibusdam est omnis consectetur.\n",
      "mon deuxième commentaire : A pisser contre le vent, on mouille sa chemise\n",
      "J'ai préféré Martine à la plage...\n",
      "Ce livre est presque pourri\n",
      "j'ai change idee\n",
      "Si tout est bon dans le cochon, pourquoi dans la cochonne on ne lui bouffe que le cul?\n",
      "H cherche F pour toucher le thymus\n",
      "mon deuxième commentaire : A pisser contre le vent, on mouille sa chemise\n",
      "Ce livre est génial\n",
      "Ce livre est génial\n",
      "Ce livre est génial\n",
      "Ce livre est génial\n",
      "Lire le Sud-Ouest est beaucoup plus palpitant que votre livre\n",
      "Si debugger, c’est supprimer des bugs, alors programmer ne peut être que les ajouter\n",
      "BliBli\n",
      "mon commentaire\n",
      "Ce livre est vraiment nul\n"
     ]
    }
   ],
   "source": [
    "for i in range(len(lst_comments_l2)):\n",
    "    for k, v in lst_comments_l2[i].items():\n",
    "        if k == 'body':\n",
    "            print(v)"
   ]
  },
  {
   "cell_type": "markdown",
   "metadata": {},
   "source": [
    "## Amélioration : \n",
    "\n",
    "Liste des auteurs de commentaires et leur(s) commentaires"
   ]
  },
  {
   "cell_type": "markdown",
   "metadata": {},
   "source": [
    "Fonction qui récupère l'auteur d'un commentaire à partir de l'id du commentaire"
   ]
  },
  {
   "cell_type": "code",
   "execution_count": 234,
   "metadata": {},
   "outputs": [],
   "source": [
    "def auteur_commt(id): \n",
    "    url = 'https://demo.api-platform.com' + id\n",
    "    r_cmt_id = requests.get(url)\n",
    "    dico_commid = r_cmt_id.json()\n",
    "    for k, v in dico_commid.items():\n",
    "        if k == 'author':\n",
    "            return v"
   ]
  },
  {
   "cell_type": "code",
   "execution_count": 235,
   "metadata": {},
   "outputs": [
    {
     "name": "stdout",
     "output_type": "stream",
     "text": [
      "Hilma Kautzer  :  Quas sunt laboriosam accusantium amet. Id et ea voluptate inventore sed aut. Mollitia minus laudantium numquam non quibusdam qui iusto modi.\n",
      "Imani Fahey  :  Et doloribus maxime ratione odit et eum. Autem consequatur eos beatae. Accusantium vitae molestias vitae aperiam quibusdam. Dicta blanditiis deserunt enim architecto blanditiis quaerat.\n",
      "Prof. Geovanni Beier II  :  Quae sunt totam modi sit quae. Nesciunt et reprehenderit similique beatae explicabo possimus sit. Ipsam mollitia ad voluptas enim sed.\n",
      "Dr. Shaylee Smith PhD  :  Est sapiente rerum quis magni ex assumenda occaecati molestiae. Atque exercitationem et aut voluptatibus vitae. Ipsum quo alias laudantium molestias omnis quam. Modi enim sapiente quis quibusdam est omnis consectetur.\n",
      "DROMZ  :  mon deuxième commentaire : A pisser contre le vent, on mouille sa chemise\n",
      "Jean Bon  :  J'ai préféré Martine à la plage...\n",
      "Moi-même  :  Ce livre est presque pourri\n",
      "Ivana  :  j'ai change idee\n",
      "DROMZ  :  Si tout est bon dans le cochon, pourquoi dans la cochonne on ne lui bouffe que le cul?\n",
      "leoueb_c_bien  :  H cherche F pour toucher le thymus\n",
      "DROMZ  :  mon deuxième commentaire : A pisser contre le vent, on mouille sa chemise\n",
      "Moi-même  :  Ce livre est génial\n",
      "Moi-même  :  Ce livre est génial\n",
      "Moi-même  :  Ce livre est génial\n",
      "Moi-même  :  Ce livre est génial\n",
      "Jean Neymar  :  Lire le Sud-Ouest est beaucoup plus palpitant que votre livre\n",
      "DROMZ  :  Si debugger, c’est supprimer des bugs, alors programmer ne peut être que les ajouter\n",
      "Moi-même  :  BliBli\n",
      "None  :  mon commentaire\n",
      "Jean Bonneau  :  Ce livre est vraiment nul\n"
     ]
    }
   ],
   "source": [
    "for i in range(len(lst_comments_l2)):\n",
    "    for k, v in lst_comments_l2[i].items():\n",
    "        if k == 'body':\n",
    "            c = v\n",
    "        if k == '@id':\n",
    "            id = v\n",
    "            auteur = auteur_commt(id)\n",
    "    print(auteur, \" : \", c)"
   ]
  },
  {
   "cell_type": "markdown",
   "metadata": {},
   "source": [
    "## 5. Modifier votre nouveau commentaire en utilisant l’id qui vous a été fourni lors de sa création"
   ]
  },
  {
   "cell_type": "code",
   "execution_count": 222,
   "metadata": {},
   "outputs": [],
   "source": [
    "#phrase initiale : Le fossé séparant théorie et pratique est moins large en théorie qu’il ne l’est en pratique\n",
    "#Si debugger, c’est supprimer des bugs, alors programmer ne peut être que les ajouter\n",
    "data_patch = {\"body\": \"Si debugger, c’est supprimer des bugs, alors programmer ne peut être que les ajouter\"}\n",
    "url2 = \"https://demo.api-platform.com\" + post_id\n",
    "r_patch_cmt = requests.patch(url2, json = data_patch, headers={'Content-Type': 'application/merge-patch+json'})"
   ]
  },
  {
   "cell_type": "code",
   "execution_count": 223,
   "metadata": {},
   "outputs": [
    {
     "name": "stdout",
     "output_type": "stream",
     "text": [
      "https://demo.api-platform.com/reviews/b04ed314-c1b1-42ae-958e-99c1c00e7645\n"
     ]
    }
   ],
   "source": [
    "print(url2)"
   ]
  },
  {
   "cell_type": "code",
   "execution_count": 224,
   "metadata": {},
   "outputs": [
    {
     "name": "stdout",
     "output_type": "stream",
     "text": [
      "<Response [200]>\n"
     ]
    }
   ],
   "source": [
    "print(r_patch_cmt)"
   ]
  },
  {
   "cell_type": "code",
   "execution_count": 225,
   "metadata": {},
   "outputs": [],
   "source": [
    "dico_modif = r_patch_cmt.json()"
   ]
  },
  {
   "cell_type": "code",
   "execution_count": 226,
   "metadata": {},
   "outputs": [
    {
     "name": "stdout",
     "output_type": "stream",
     "text": [
      "{'@context': '/contexts/Review', '@id': '/reviews/b04ed314-c1b1-42ae-958e-99c1c00e7645', '@type': 'http://schema.org/Review', 'body': 'Si debugger, c’est supprimer des bugs, alors programmer ne peut être que les ajouter', 'rating': 1, 'book': {'@id': '/books/1b08c9ab-6254-4015-ad14-bac3e5c008df', '@type': 'http://schema.org/Book', 'title': 'Et sit enim omnis.'}, 'author': 'DROMZ'}\n"
     ]
    }
   ],
   "source": [
    "print(dico_modif)"
   ]
  },
  {
   "cell_type": "code",
   "execution_count": null,
   "metadata": {},
   "outputs": [],
   "source": []
  }
 ],
 "metadata": {
  "kernelspec": {
   "display_name": "Python 3",
   "language": "python",
   "name": "python3"
  },
  "language_info": {
   "codemirror_mode": {
    "name": "ipython",
    "version": 3
   },
   "file_extension": ".py",
   "mimetype": "text/x-python",
   "name": "python",
   "nbconvert_exporter": "python",
   "pygments_lexer": "ipython3",
   "version": "3.7.5"
  }
 },
 "nbformat": 4,
 "nbformat_minor": 2
}
